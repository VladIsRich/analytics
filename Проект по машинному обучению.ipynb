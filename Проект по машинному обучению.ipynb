{
 "cells": [
  {
   "cell_type": "markdown",
   "metadata": {},
   "source": [
    "# Финальный проект\n",
    "\n",
    "Финальный проект на курсе по машинному обучению на курсере"
   ]
  },
  {
   "cell_type": "markdown",
   "metadata": {},
   "source": [
    "В этом ноутбуке предлагается решать задачу предсказания средней цены квадратного метра жилья в некоторых районах Москвы и Московской области. В качестве метрики будем использовать MAPE.\n",
    "\n",
    "MAPE (Mean Absolute Percentage Error) = $\\dfrac{1}{\\ell}\\sum\\limits_{i=1}^{\\ell} \\left| \\dfrac{y_i - a(x_i)}{y_i} \\right|$"
   ]
  },
  {
   "cell_type": "markdown",
   "metadata": {},
   "source": [
    "## Импорт библиотек и чтение данных"
   ]
  },
  {
   "cell_type": "code",
   "execution_count": 578,
   "metadata": {
    "ExecuteTime": {
     "end_time": "2021-08-23T17:36:06.001800Z",
     "start_time": "2021-08-23T17:36:05.516799Z"
    }
   },
   "outputs": [],
   "source": [
    "import pandas as pd\n",
    "import numpy as np\n",
    "\n",
    "import matplotlib.pyplot as plt\n",
    "import seaborn as sns\n",
    "\n",
    "sns.set(style='darkgrid', rc={'figure.figsize': (16, 8)})\n",
    "\n",
    "pd.options.display.max_columns = 100"
   ]
  },
  {
   "cell_type": "code",
   "execution_count": 579,
   "metadata": {
    "ExecuteTime": {
     "end_time": "2021-08-23T17:36:10.246725Z",
     "start_time": "2021-08-23T17:36:09.938360Z"
    }
   },
   "outputs": [],
   "source": [
    "train = pd.read_csv('train.csv')\n",
    "test = pd.read_csv('test.csv')\n",
    "\n",
    "housebase = pd.read_csv('housebase.csv')"
   ]
  },
  {
   "cell_type": "code",
   "execution_count": 580,
   "metadata": {
    "ExecuteTime": {
     "end_time": "2021-08-23T17:36:10.818686Z",
     "start_time": "2021-08-23T17:36:10.809597Z"
    }
   },
   "outputs": [],
   "source": [
    "housebase = housebase.sample(10000, replace=False)"
   ]
  },
  {
   "cell_type": "markdown",
   "metadata": {},
   "source": [
    "### train.csv и test.csv\n",
    "\n",
    "Описание полей в файлах train.csv и test.csv:\n",
    "\n",
    "**month** - месяц, за который указаны данные в датасете\n",
    "\n",
    "**city_quadkey** - полигон, его координаты можно его узнать из скрипта quadkey.py\n",
    "\n",
    "**apartment_ratio** - доля квартир в этом районе в этом месяце со статусом \"апартаменты\"\n",
    "\n",
    "**offers_in_sites_ratio** - доля офферов в ЖК в этом районе в этом месяце\n",
    "\n",
    "**studio_ratio** - доля объявлений о продаже студии среди всех объявлений в этом районе в этом месяце\n",
    "\n",
    "**rooms_offered_*_ratio** - доля квартир указанной в * комнатности от всех квартир в продаже в этом районе в этом месяце\n",
    "\n",
    "**unique_active_buildings_count** - количество домов, в которых есть квартиры в продаже в этом районе в этом месяце\n",
    "\n",
    "**unique_active_building_series_count** - количество уникальных серий домов, в которых есть квартиры в продаже в этом районе в этом месяце\n",
    "\n",
    "**total_area_avg** - средний метраж продаваемой квартиры в этом районе в этом месяце\n",
    "\n",
    "**offer_count** - число объявлений о продаже квартир в этом районе в этом месяце\n",
    "\n",
    "**avg_price_sqm** - средняя цена за квадратный метр в этом районе в этом месяце"
   ]
  },
  {
   "cell_type": "markdown",
   "metadata": {},
   "source": [
    "### housebase.csv\n",
    "\n",
    "Описание полей в датасете про базу домов housebase.csv:\n",
    "\n",
    "**city_quadkey** - полигон, его координаты можно его узнать из скрипта quadkey.py\n",
    "\n",
    "**building_id** - id дома\n",
    "\n",
    "**building_series_id** - id серии дома\n",
    "\n",
    "**unified_address** - адрес дома\n",
    "\n",
    "**latitude, longitude** - координаты дома\n",
    "\n",
    "**flats_count** - количество квартир в доме\n",
    "\n",
    "**has_elevator** - наличие лифта в доме\n",
    "\n",
    "**ceiling_height** - высота потолков в доме\n",
    "\n",
    "**build_year** - год постройки дома\n",
    "\n",
    "**expect_demolition** - дом входит в программу реновации и ожидает сноса\n",
    "\n",
    "**art_cnt** - количество организаций в сфере искусства (музеи, галереи и т.п.) в этом районе city_quadkey\n",
    "\n",
    "**beauty_cnt** - количество салонов красоты в этом районе city_quadkey\n",
    "\n",
    "**cafe_restaurant_eating_out_cnt** - количество точек общественного питания в этом районе city_quadkey\n",
    "\n",
    "**chain_cnt** - количество сетевых организаций в этом районе city_quadkey\n",
    "\n",
    "**entertainment_cnt** - количество организаций в сфере развлечений в этом районе city_quadkey\n",
    "\n",
    "**groceries_and_everyday_items_cnt** - количество продуктовых магазинов в этом районе city_quadkey\n",
    "\n",
    "**healthcare_cnt** - количество организаций в сфере здравоохранения в этом районе city_quadkey\n",
    "\n",
    "**laundry_and_repair_services_cnt** - количество прачечных и ремонтных мастерских в этом районе city_quadkey\n",
    "\n",
    "**shopping_cnt** - количество магазинов в этом районе city_quadkey\n",
    "\n",
    "**sport_cnt** - количество спортивных организаций в этом районе city_quadkey"
   ]
  },
  {
   "cell_type": "code",
   "execution_count": 581,
   "metadata": {
    "ExecuteTime": {
     "end_time": "2021-08-23T17:35:11.870860Z",
     "start_time": "2021-08-23T17:35:11.858289Z"
    }
   },
   "outputs": [
    {
     "data": {
      "text/html": [
       "<div>\n",
       "<style scoped>\n",
       "    .dataframe tbody tr th:only-of-type {\n",
       "        vertical-align: middle;\n",
       "    }\n",
       "\n",
       "    .dataframe tbody tr th {\n",
       "        vertical-align: top;\n",
       "    }\n",
       "\n",
       "    .dataframe thead th {\n",
       "        text-align: right;\n",
       "    }\n",
       "</style>\n",
       "<table border=\"1\" class=\"dataframe\">\n",
       "  <thead>\n",
       "    <tr style=\"text-align: right;\">\n",
       "      <th></th>\n",
       "      <th>month</th>\n",
       "      <th>city_quadkey</th>\n",
       "      <th>apartment_ratio</th>\n",
       "      <th>offers_in_sites_ratio</th>\n",
       "      <th>studio_ratio</th>\n",
       "      <th>rooms_offered_1_ratio</th>\n",
       "      <th>rooms_offered_2_ratio</th>\n",
       "      <th>rooms_offered_3_ratio</th>\n",
       "      <th>rooms_offered_4_more_ratio</th>\n",
       "      <th>total_area_avg</th>\n",
       "      <th>unique_active_buildings_count</th>\n",
       "      <th>unique_active_building_series_count</th>\n",
       "      <th>offer_count</th>\n",
       "      <th>avg_price_sqm</th>\n",
       "      <th>season</th>\n",
       "    </tr>\n",
       "  </thead>\n",
       "  <tbody>\n",
       "    <tr>\n",
       "      <th>0</th>\n",
       "      <td>2017-09-01</td>\n",
       "      <td>120310101003320</td>\n",
       "      <td>0.0</td>\n",
       "      <td>0.0</td>\n",
       "      <td>0.000000</td>\n",
       "      <td>0.666667</td>\n",
       "      <td>0.000000</td>\n",
       "      <td>0.333333</td>\n",
       "      <td>0.000000</td>\n",
       "      <td>46.000000</td>\n",
       "      <td>1</td>\n",
       "      <td>1</td>\n",
       "      <td>3</td>\n",
       "      <td>109930.356771</td>\n",
       "      <td>fall</td>\n",
       "    </tr>\n",
       "    <tr>\n",
       "      <th>1</th>\n",
       "      <td>2018-02-01</td>\n",
       "      <td>120310102131112</td>\n",
       "      <td>0.0</td>\n",
       "      <td>0.0</td>\n",
       "      <td>0.000000</td>\n",
       "      <td>0.600000</td>\n",
       "      <td>0.200000</td>\n",
       "      <td>0.000000</td>\n",
       "      <td>0.200000</td>\n",
       "      <td>60.760000</td>\n",
       "      <td>4</td>\n",
       "      <td>2</td>\n",
       "      <td>5</td>\n",
       "      <td>75599.835938</td>\n",
       "      <td>winter</td>\n",
       "    </tr>\n",
       "    <tr>\n",
       "      <th>2</th>\n",
       "      <td>2018-10-01</td>\n",
       "      <td>120310121201212</td>\n",
       "      <td>0.0</td>\n",
       "      <td>0.0</td>\n",
       "      <td>0.047619</td>\n",
       "      <td>0.349206</td>\n",
       "      <td>0.428571</td>\n",
       "      <td>0.206349</td>\n",
       "      <td>0.015873</td>\n",
       "      <td>51.480952</td>\n",
       "      <td>13</td>\n",
       "      <td>2</td>\n",
       "      <td>63</td>\n",
       "      <td>48865.313027</td>\n",
       "      <td>fall</td>\n",
       "    </tr>\n",
       "    <tr>\n",
       "      <th>3</th>\n",
       "      <td>2017-09-01</td>\n",
       "      <td>120310101102202</td>\n",
       "      <td>0.0</td>\n",
       "      <td>0.0</td>\n",
       "      <td>0.000000</td>\n",
       "      <td>0.486486</td>\n",
       "      <td>0.243243</td>\n",
       "      <td>0.270270</td>\n",
       "      <td>0.000000</td>\n",
       "      <td>49.237838</td>\n",
       "      <td>15</td>\n",
       "      <td>8</td>\n",
       "      <td>37</td>\n",
       "      <td>155280.097128</td>\n",
       "      <td>fall</td>\n",
       "    </tr>\n",
       "    <tr>\n",
       "      <th>4</th>\n",
       "      <td>2017-01-01</td>\n",
       "      <td>120310101102301</td>\n",
       "      <td>0.0</td>\n",
       "      <td>0.0</td>\n",
       "      <td>0.000000</td>\n",
       "      <td>0.513514</td>\n",
       "      <td>0.324324</td>\n",
       "      <td>0.135135</td>\n",
       "      <td>0.027027</td>\n",
       "      <td>48.313513</td>\n",
       "      <td>15</td>\n",
       "      <td>8</td>\n",
       "      <td>37</td>\n",
       "      <td>157609.437711</td>\n",
       "      <td>winter</td>\n",
       "    </tr>\n",
       "  </tbody>\n",
       "</table>\n",
       "</div>"
      ],
      "text/plain": [
       "        month     city_quadkey  apartment_ratio  offers_in_sites_ratio  \\\n",
       "0  2017-09-01  120310101003320              0.0                    0.0   \n",
       "1  2018-02-01  120310102131112              0.0                    0.0   \n",
       "2  2018-10-01  120310121201212              0.0                    0.0   \n",
       "3  2017-09-01  120310101102202              0.0                    0.0   \n",
       "4  2017-01-01  120310101102301              0.0                    0.0   \n",
       "\n",
       "   studio_ratio  rooms_offered_1_ratio  rooms_offered_2_ratio  \\\n",
       "0      0.000000               0.666667               0.000000   \n",
       "1      0.000000               0.600000               0.200000   \n",
       "2      0.047619               0.349206               0.428571   \n",
       "3      0.000000               0.486486               0.243243   \n",
       "4      0.000000               0.513514               0.324324   \n",
       "\n",
       "   rooms_offered_3_ratio  rooms_offered_4_more_ratio  total_area_avg  \\\n",
       "0               0.333333                    0.000000       46.000000   \n",
       "1               0.000000                    0.200000       60.760000   \n",
       "2               0.206349                    0.015873       51.480952   \n",
       "3               0.270270                    0.000000       49.237838   \n",
       "4               0.135135                    0.027027       48.313513   \n",
       "\n",
       "   unique_active_buildings_count  unique_active_building_series_count  \\\n",
       "0                              1                                    1   \n",
       "1                              4                                    2   \n",
       "2                             13                                    2   \n",
       "3                             15                                    8   \n",
       "4                             15                                    8   \n",
       "\n",
       "   offer_count  avg_price_sqm  season  \n",
       "0            3  109930.356771    fall  \n",
       "1            5   75599.835938  winter  \n",
       "2           63   48865.313027    fall  \n",
       "3           37  155280.097128    fall  \n",
       "4           37  157609.437711  winter  "
      ]
     },
     "execution_count": 581,
     "metadata": {},
     "output_type": "execute_result"
    }
   ],
   "source": [
    "train.head()"
   ]
  },
  {
   "cell_type": "code",
   "execution_count": 582,
   "metadata": {
    "ExecuteTime": {
     "end_time": "2021-08-23T17:35:12.063035Z",
     "start_time": "2021-08-23T17:35:12.053100Z"
    }
   },
   "outputs": [
    {
     "data": {
      "text/html": [
       "<div>\n",
       "<style scoped>\n",
       "    .dataframe tbody tr th:only-of-type {\n",
       "        vertical-align: middle;\n",
       "    }\n",
       "\n",
       "    .dataframe tbody tr th {\n",
       "        vertical-align: top;\n",
       "    }\n",
       "\n",
       "    .dataframe thead th {\n",
       "        text-align: right;\n",
       "    }\n",
       "</style>\n",
       "<table border=\"1\" class=\"dataframe\">\n",
       "  <thead>\n",
       "    <tr style=\"text-align: right;\">\n",
       "      <th></th>\n",
       "      <th>month</th>\n",
       "      <th>city_quadkey</th>\n",
       "      <th>apartment_ratio</th>\n",
       "      <th>offers_in_sites_ratio</th>\n",
       "      <th>studio_ratio</th>\n",
       "      <th>rooms_offered_1_ratio</th>\n",
       "      <th>rooms_offered_2_ratio</th>\n",
       "      <th>rooms_offered_3_ratio</th>\n",
       "      <th>rooms_offered_4_more_ratio</th>\n",
       "      <th>total_area_avg</th>\n",
       "      <th>unique_active_buildings_count</th>\n",
       "      <th>unique_active_building_series_count</th>\n",
       "      <th>offer_count</th>\n",
       "      <th>avg_price_sqm</th>\n",
       "      <th>season</th>\n",
       "    </tr>\n",
       "  </thead>\n",
       "  <tbody>\n",
       "    <tr>\n",
       "      <th>0</th>\n",
       "      <td>2019-07-01</td>\n",
       "      <td>120310101312123</td>\n",
       "      <td>0.0</td>\n",
       "      <td>0.0</td>\n",
       "      <td>0.155556</td>\n",
       "      <td>0.288889</td>\n",
       "      <td>0.288889</td>\n",
       "      <td>0.400000</td>\n",
       "      <td>0.022222</td>\n",
       "      <td>57.248889</td>\n",
       "      <td>16</td>\n",
       "      <td>5</td>\n",
       "      <td>45</td>\n",
       "      <td>165260.927257</td>\n",
       "      <td>summer</td>\n",
       "    </tr>\n",
       "    <tr>\n",
       "      <th>1</th>\n",
       "      <td>2019-03-01</td>\n",
       "      <td>120310101021111</td>\n",
       "      <td>0.0</td>\n",
       "      <td>0.0</td>\n",
       "      <td>0.000000</td>\n",
       "      <td>0.142857</td>\n",
       "      <td>0.400000</td>\n",
       "      <td>0.400000</td>\n",
       "      <td>0.057143</td>\n",
       "      <td>58.271429</td>\n",
       "      <td>18</td>\n",
       "      <td>9</td>\n",
       "      <td>35</td>\n",
       "      <td>183111.316071</td>\n",
       "      <td>spring</td>\n",
       "    </tr>\n",
       "    <tr>\n",
       "      <th>2</th>\n",
       "      <td>2019-07-01</td>\n",
       "      <td>120310130131211</td>\n",
       "      <td>0.0</td>\n",
       "      <td>0.0</td>\n",
       "      <td>0.000000</td>\n",
       "      <td>0.000000</td>\n",
       "      <td>1.000000</td>\n",
       "      <td>0.000000</td>\n",
       "      <td>0.000000</td>\n",
       "      <td>53.000000</td>\n",
       "      <td>1</td>\n",
       "      <td>1</td>\n",
       "      <td>1</td>\n",
       "      <td>33962.265625</td>\n",
       "      <td>summer</td>\n",
       "    </tr>\n",
       "    <tr>\n",
       "      <th>3</th>\n",
       "      <td>2019-03-01</td>\n",
       "      <td>120310101012003</td>\n",
       "      <td>0.0</td>\n",
       "      <td>0.0</td>\n",
       "      <td>0.002732</td>\n",
       "      <td>0.265027</td>\n",
       "      <td>0.333333</td>\n",
       "      <td>0.245902</td>\n",
       "      <td>0.153005</td>\n",
       "      <td>87.658033</td>\n",
       "      <td>20</td>\n",
       "      <td>3</td>\n",
       "      <td>366</td>\n",
       "      <td>118424.849983</td>\n",
       "      <td>spring</td>\n",
       "    </tr>\n",
       "    <tr>\n",
       "      <th>4</th>\n",
       "      <td>2019-01-01</td>\n",
       "      <td>120310101221032</td>\n",
       "      <td>0.0</td>\n",
       "      <td>0.0</td>\n",
       "      <td>0.000000</td>\n",
       "      <td>0.187500</td>\n",
       "      <td>0.625000</td>\n",
       "      <td>0.187500</td>\n",
       "      <td>0.000000</td>\n",
       "      <td>47.000000</td>\n",
       "      <td>8</td>\n",
       "      <td>4</td>\n",
       "      <td>16</td>\n",
       "      <td>145717.792480</td>\n",
       "      <td>winter</td>\n",
       "    </tr>\n",
       "  </tbody>\n",
       "</table>\n",
       "</div>"
      ],
      "text/plain": [
       "        month     city_quadkey  apartment_ratio  offers_in_sites_ratio  \\\n",
       "0  2019-07-01  120310101312123              0.0                    0.0   \n",
       "1  2019-03-01  120310101021111              0.0                    0.0   \n",
       "2  2019-07-01  120310130131211              0.0                    0.0   \n",
       "3  2019-03-01  120310101012003              0.0                    0.0   \n",
       "4  2019-01-01  120310101221032              0.0                    0.0   \n",
       "\n",
       "   studio_ratio  rooms_offered_1_ratio  rooms_offered_2_ratio  \\\n",
       "0      0.155556               0.288889               0.288889   \n",
       "1      0.000000               0.142857               0.400000   \n",
       "2      0.000000               0.000000               1.000000   \n",
       "3      0.002732               0.265027               0.333333   \n",
       "4      0.000000               0.187500               0.625000   \n",
       "\n",
       "   rooms_offered_3_ratio  rooms_offered_4_more_ratio  total_area_avg  \\\n",
       "0               0.400000                    0.022222       57.248889   \n",
       "1               0.400000                    0.057143       58.271429   \n",
       "2               0.000000                    0.000000       53.000000   \n",
       "3               0.245902                    0.153005       87.658033   \n",
       "4               0.187500                    0.000000       47.000000   \n",
       "\n",
       "   unique_active_buildings_count  unique_active_building_series_count  \\\n",
       "0                             16                                    5   \n",
       "1                             18                                    9   \n",
       "2                              1                                    1   \n",
       "3                             20                                    3   \n",
       "4                              8                                    4   \n",
       "\n",
       "   offer_count  avg_price_sqm  season  \n",
       "0           45  165260.927257  summer  \n",
       "1           35  183111.316071  spring  \n",
       "2            1   33962.265625  summer  \n",
       "3          366  118424.849983  spring  \n",
       "4           16  145717.792480  winter  "
      ]
     },
     "execution_count": 582,
     "metadata": {},
     "output_type": "execute_result"
    }
   ],
   "source": [
    "test.head()"
   ]
  },
  {
   "cell_type": "code",
   "execution_count": 583,
   "metadata": {
    "ExecuteTime": {
     "end_time": "2021-08-23T17:35:12.337805Z",
     "start_time": "2021-08-23T17:35:12.324351Z"
    }
   },
   "outputs": [
    {
     "data": {
      "text/html": [
       "<div>\n",
       "<style scoped>\n",
       "    .dataframe tbody tr th:only-of-type {\n",
       "        vertical-align: middle;\n",
       "    }\n",
       "\n",
       "    .dataframe tbody tr th {\n",
       "        vertical-align: top;\n",
       "    }\n",
       "\n",
       "    .dataframe thead th {\n",
       "        text-align: right;\n",
       "    }\n",
       "</style>\n",
       "<table border=\"1\" class=\"dataframe\">\n",
       "  <thead>\n",
       "    <tr style=\"text-align: right;\">\n",
       "      <th></th>\n",
       "      <th>city_quadkey</th>\n",
       "      <th>building_id</th>\n",
       "      <th>building_series_id</th>\n",
       "      <th>building_type</th>\n",
       "      <th>unified_address</th>\n",
       "      <th>latitude</th>\n",
       "      <th>longitude</th>\n",
       "      <th>flats_count</th>\n",
       "      <th>has_elevator</th>\n",
       "      <th>ceiling_height</th>\n",
       "      <th>build_year</th>\n",
       "      <th>expect_demolition</th>\n",
       "      <th>art_cnt</th>\n",
       "      <th>beauty_cnt</th>\n",
       "      <th>cafe_restaurant_eating_out_cnt</th>\n",
       "      <th>chain_cnt</th>\n",
       "      <th>entertainment_cnt</th>\n",
       "      <th>groceries_and_everyday_items_cnt</th>\n",
       "      <th>healthcare_cnt</th>\n",
       "      <th>laundry_and_repair_services_cnt</th>\n",
       "      <th>shopping_cnt</th>\n",
       "      <th>sport_cnt</th>\n",
       "    </tr>\n",
       "  </thead>\n",
       "  <tbody>\n",
       "    <tr>\n",
       "      <th>9232</th>\n",
       "      <td>120311002100111</td>\n",
       "      <td>6501263809963818643</td>\n",
       "      <td>0</td>\n",
       "      <td>BRICK</td>\n",
       "      <td>Россия, Московская область, городской округ Ша...</td>\n",
       "      <td>55.555733</td>\n",
       "      <td>39.811760</td>\n",
       "      <td>0</td>\n",
       "      <td>0</td>\n",
       "      <td>2.50</td>\n",
       "      <td>NaN</td>\n",
       "      <td>0</td>\n",
       "      <td>2.0</td>\n",
       "      <td>NaN</td>\n",
       "      <td>NaN</td>\n",
       "      <td>5.0</td>\n",
       "      <td>3.0</td>\n",
       "      <td>7.0</td>\n",
       "      <td>2.0</td>\n",
       "      <td>1.0</td>\n",
       "      <td>1.0</td>\n",
       "      <td>NaN</td>\n",
       "    </tr>\n",
       "    <tr>\n",
       "      <th>3335</th>\n",
       "      <td>120310113122201</td>\n",
       "      <td>4465347359512352861</td>\n",
       "      <td>0</td>\n",
       "      <td>NaN</td>\n",
       "      <td>Россия, Московская область, Егорьевск, улица А...</td>\n",
       "      <td>55.378281</td>\n",
       "      <td>39.040253</td>\n",
       "      <td>0</td>\n",
       "      <td>0</td>\n",
       "      <td>NaN</td>\n",
       "      <td>NaN</td>\n",
       "      <td>0</td>\n",
       "      <td>10.0</td>\n",
       "      <td>33.0</td>\n",
       "      <td>11.0</td>\n",
       "      <td>178.0</td>\n",
       "      <td>7.0</td>\n",
       "      <td>50.0</td>\n",
       "      <td>14.0</td>\n",
       "      <td>48.0</td>\n",
       "      <td>142.0</td>\n",
       "      <td>4.0</td>\n",
       "    </tr>\n",
       "    <tr>\n",
       "      <th>9348</th>\n",
       "      <td>120310101012311</td>\n",
       "      <td>7185711875385331609</td>\n",
       "      <td>663298</td>\n",
       "      <td>PANEL</td>\n",
       "      <td>Россия, Москва, Ангарская улица, 25</td>\n",
       "      <td>55.877159</td>\n",
       "      <td>37.518593</td>\n",
       "      <td>118</td>\n",
       "      <td>0</td>\n",
       "      <td>2.48</td>\n",
       "      <td>1969.0</td>\n",
       "      <td>1</td>\n",
       "      <td>8.0</td>\n",
       "      <td>18.0</td>\n",
       "      <td>10.0</td>\n",
       "      <td>86.0</td>\n",
       "      <td>12.0</td>\n",
       "      <td>43.0</td>\n",
       "      <td>13.0</td>\n",
       "      <td>27.0</td>\n",
       "      <td>13.0</td>\n",
       "      <td>3.0</td>\n",
       "    </tr>\n",
       "    <tr>\n",
       "      <th>9035</th>\n",
       "      <td>120310103031031</td>\n",
       "      <td>7165190497461328645</td>\n",
       "      <td>0</td>\n",
       "      <td>NaN</td>\n",
       "      <td>Россия, Московская область, Подольск, Мраморна...</td>\n",
       "      <td>55.440731</td>\n",
       "      <td>37.563408</td>\n",
       "      <td>0</td>\n",
       "      <td>0</td>\n",
       "      <td>NaN</td>\n",
       "      <td>1989.0</td>\n",
       "      <td>0</td>\n",
       "      <td>NaN</td>\n",
       "      <td>5.0</td>\n",
       "      <td>NaN</td>\n",
       "      <td>6.0</td>\n",
       "      <td>4.0</td>\n",
       "      <td>6.0</td>\n",
       "      <td>NaN</td>\n",
       "      <td>3.0</td>\n",
       "      <td>1.0</td>\n",
       "      <td>1.0</td>\n",
       "    </tr>\n",
       "    <tr>\n",
       "      <th>3144</th>\n",
       "      <td>120310103031222</td>\n",
       "      <td>8555941552269514825</td>\n",
       "      <td>0</td>\n",
       "      <td>BRICK</td>\n",
       "      <td>Россия, Московская область, Подольск, Народная...</td>\n",
       "      <td>55.414211</td>\n",
       "      <td>37.538822</td>\n",
       "      <td>0</td>\n",
       "      <td>0</td>\n",
       "      <td>3.00</td>\n",
       "      <td>1959.0</td>\n",
       "      <td>0</td>\n",
       "      <td>2.0</td>\n",
       "      <td>5.0</td>\n",
       "      <td>2.0</td>\n",
       "      <td>12.0</td>\n",
       "      <td>4.0</td>\n",
       "      <td>27.0</td>\n",
       "      <td>3.0</td>\n",
       "      <td>9.0</td>\n",
       "      <td>8.0</td>\n",
       "      <td>1.0</td>\n",
       "    </tr>\n",
       "  </tbody>\n",
       "</table>\n",
       "</div>"
      ],
      "text/plain": [
       "         city_quadkey          building_id  building_series_id building_type  \\\n",
       "9232  120311002100111  6501263809963818643                   0         BRICK   \n",
       "3335  120310113122201  4465347359512352861                   0           NaN   \n",
       "9348  120310101012311  7185711875385331609              663298         PANEL   \n",
       "9035  120310103031031  7165190497461328645                   0           NaN   \n",
       "3144  120310103031222  8555941552269514825                   0         BRICK   \n",
       "\n",
       "                                        unified_address   latitude  longitude  \\\n",
       "9232  Россия, Московская область, городской округ Ша...  55.555733  39.811760   \n",
       "3335  Россия, Московская область, Егорьевск, улица А...  55.378281  39.040253   \n",
       "9348                Россия, Москва, Ангарская улица, 25  55.877159  37.518593   \n",
       "9035  Россия, Московская область, Подольск, Мраморна...  55.440731  37.563408   \n",
       "3144  Россия, Московская область, Подольск, Народная...  55.414211  37.538822   \n",
       "\n",
       "      flats_count  has_elevator  ceiling_height  build_year  \\\n",
       "9232            0             0            2.50         NaN   \n",
       "3335            0             0             NaN         NaN   \n",
       "9348          118             0            2.48      1969.0   \n",
       "9035            0             0             NaN      1989.0   \n",
       "3144            0             0            3.00      1959.0   \n",
       "\n",
       "      expect_demolition  art_cnt  beauty_cnt  cafe_restaurant_eating_out_cnt  \\\n",
       "9232                  0      2.0         NaN                             NaN   \n",
       "3335                  0     10.0        33.0                            11.0   \n",
       "9348                  1      8.0        18.0                            10.0   \n",
       "9035                  0      NaN         5.0                             NaN   \n",
       "3144                  0      2.0         5.0                             2.0   \n",
       "\n",
       "      chain_cnt  entertainment_cnt  groceries_and_everyday_items_cnt  \\\n",
       "9232        5.0                3.0                               7.0   \n",
       "3335      178.0                7.0                              50.0   \n",
       "9348       86.0               12.0                              43.0   \n",
       "9035        6.0                4.0                               6.0   \n",
       "3144       12.0                4.0                              27.0   \n",
       "\n",
       "      healthcare_cnt  laundry_and_repair_services_cnt  shopping_cnt  sport_cnt  \n",
       "9232             2.0                              1.0           1.0        NaN  \n",
       "3335            14.0                             48.0         142.0        4.0  \n",
       "9348            13.0                             27.0          13.0        3.0  \n",
       "9035             NaN                              3.0           1.0        1.0  \n",
       "3144             3.0                              9.0           8.0        1.0  "
      ]
     },
     "execution_count": 583,
     "metadata": {},
     "output_type": "execute_result"
    }
   ],
   "source": [
    "housebase.head()"
   ]
  },
  {
   "cell_type": "code",
   "execution_count": 584,
   "metadata": {
    "ExecuteTime": {
     "end_time": "2021-08-23T17:36:16.061417Z",
     "start_time": "2021-08-23T17:36:16.057426Z"
    }
   },
   "outputs": [
    {
     "data": {
      "text/plain": [
       "'Количество объектов в train 40000, в test 10000, количество записей в housebase 10000.'"
      ]
     },
     "execution_count": 584,
     "metadata": {},
     "output_type": "execute_result"
    }
   ],
   "source": [
    "f'Количество объектов в train {len(train)}, в test {len(test)}, количество записей в housebase {len(housebase)}.'"
   ]
  },
  {
   "cell_type": "markdown",
   "metadata": {},
   "source": [
    "## EDA"
   ]
  },
  {
   "cell_type": "markdown",
   "metadata": {},
   "source": [
    "Посмотрим есть ли пропуски в данных:"
   ]
  },
  {
   "cell_type": "code",
   "execution_count": 585,
   "metadata": {
    "ExecuteTime": {
     "end_time": "2021-08-23T17:36:17.169446Z",
     "start_time": "2021-08-23T17:36:17.162343Z"
    }
   },
   "outputs": [
    {
     "data": {
      "text/plain": [
       "month                                  0\n",
       "city_quadkey                           0\n",
       "apartment_ratio                        0\n",
       "offers_in_sites_ratio                  0\n",
       "studio_ratio                           0\n",
       "rooms_offered_1_ratio                  0\n",
       "rooms_offered_2_ratio                  0\n",
       "rooms_offered_3_ratio                  0\n",
       "rooms_offered_4_more_ratio             0\n",
       "total_area_avg                         0\n",
       "unique_active_buildings_count          0\n",
       "unique_active_building_series_count    0\n",
       "offer_count                            0\n",
       "avg_price_sqm                          0\n",
       "season                                 0\n",
       "dtype: int64"
      ]
     },
     "execution_count": 585,
     "metadata": {},
     "output_type": "execute_result"
    }
   ],
   "source": [
    "train.isna().sum()"
   ]
  },
  {
   "cell_type": "code",
   "execution_count": 586,
   "metadata": {
    "ExecuteTime": {
     "end_time": "2021-08-23T17:36:17.401956Z",
     "start_time": "2021-08-23T17:36:17.396647Z"
    }
   },
   "outputs": [
    {
     "data": {
      "text/plain": [
       "month                                  0\n",
       "city_quadkey                           0\n",
       "apartment_ratio                        0\n",
       "offers_in_sites_ratio                  0\n",
       "studio_ratio                           0\n",
       "rooms_offered_1_ratio                  0\n",
       "rooms_offered_2_ratio                  0\n",
       "rooms_offered_3_ratio                  0\n",
       "rooms_offered_4_more_ratio             0\n",
       "total_area_avg                         0\n",
       "unique_active_buildings_count          0\n",
       "unique_active_building_series_count    0\n",
       "offer_count                            0\n",
       "avg_price_sqm                          0\n",
       "season                                 0\n",
       "dtype: int64"
      ]
     },
     "execution_count": 586,
     "metadata": {},
     "output_type": "execute_result"
    }
   ],
   "source": [
    "test.isna().sum()"
   ]
  },
  {
   "cell_type": "code",
   "execution_count": 587,
   "metadata": {
    "ExecuteTime": {
     "end_time": "2021-08-23T17:36:17.947282Z",
     "start_time": "2021-08-23T17:36:17.941080Z"
    }
   },
   "outputs": [
    {
     "data": {
      "text/plain": [
       "city_quadkey                           0\n",
       "building_id                            0\n",
       "building_series_id                     0\n",
       "building_type                       1988\n",
       "unified_address                        0\n",
       "latitude                               0\n",
       "longitude                              0\n",
       "flats_count                            0\n",
       "has_elevator                           0\n",
       "ceiling_height                      5837\n",
       "build_year                          2634\n",
       "expect_demolition                      0\n",
       "art_cnt                             2452\n",
       "beauty_cnt                          2038\n",
       "cafe_restaurant_eating_out_cnt      2519\n",
       "chain_cnt                            634\n",
       "entertainment_cnt                   1131\n",
       "groceries_and_everyday_items_cnt     795\n",
       "healthcare_cnt                      1708\n",
       "laundry_and_repair_services_cnt     1208\n",
       "shopping_cnt                        1756\n",
       "sport_cnt                           1732\n",
       "dtype: int64"
      ]
     },
     "execution_count": 587,
     "metadata": {},
     "output_type": "execute_result"
    }
   ],
   "source": [
    "housebase.isna().sum()"
   ]
  },
  {
   "cell_type": "markdown",
   "metadata": {},
   "source": [
    "Посмотрим на типы колонок:"
   ]
  },
  {
   "cell_type": "code",
   "execution_count": 588,
   "metadata": {
    "ExecuteTime": {
     "end_time": "2021-08-23T17:26:29.100210Z",
     "start_time": "2021-08-23T17:26:29.096270Z"
    }
   },
   "outputs": [
    {
     "data": {
      "text/plain": [
       "month                                   object\n",
       "city_quadkey                             int64\n",
       "apartment_ratio                        float64\n",
       "offers_in_sites_ratio                  float64\n",
       "studio_ratio                           float64\n",
       "rooms_offered_1_ratio                  float64\n",
       "rooms_offered_2_ratio                  float64\n",
       "rooms_offered_3_ratio                  float64\n",
       "rooms_offered_4_more_ratio             float64\n",
       "total_area_avg                         float64\n",
       "unique_active_buildings_count            int64\n",
       "unique_active_building_series_count      int64\n",
       "offer_count                              int64\n",
       "avg_price_sqm                          float64\n",
       "season                                  object\n",
       "dtype: object"
      ]
     },
     "execution_count": 588,
     "metadata": {},
     "output_type": "execute_result"
    }
   ],
   "source": [
    "train.dtypes"
   ]
  },
  {
   "cell_type": "code",
   "execution_count": 589,
   "metadata": {
    "ExecuteTime": {
     "end_time": "2021-08-23T17:26:29.677746Z",
     "start_time": "2021-08-23T17:26:29.673935Z"
    }
   },
   "outputs": [
    {
     "data": {
      "text/plain": [
       "month                                   object\n",
       "city_quadkey                             int64\n",
       "apartment_ratio                        float64\n",
       "offers_in_sites_ratio                  float64\n",
       "studio_ratio                           float64\n",
       "rooms_offered_1_ratio                  float64\n",
       "rooms_offered_2_ratio                  float64\n",
       "rooms_offered_3_ratio                  float64\n",
       "rooms_offered_4_more_ratio             float64\n",
       "total_area_avg                         float64\n",
       "unique_active_buildings_count            int64\n",
       "unique_active_building_series_count      int64\n",
       "offer_count                              int64\n",
       "avg_price_sqm                          float64\n",
       "season                                  object\n",
       "dtype: object"
      ]
     },
     "execution_count": 589,
     "metadata": {},
     "output_type": "execute_result"
    }
   ],
   "source": [
    "test.dtypes"
   ]
  },
  {
   "cell_type": "code",
   "execution_count": 590,
   "metadata": {
    "ExecuteTime": {
     "end_time": "2021-08-23T17:26:30.565641Z",
     "start_time": "2021-08-23T17:26:30.561514Z"
    }
   },
   "outputs": [
    {
     "data": {
      "text/plain": [
       "city_quadkey                          int64\n",
       "building_id                           int64\n",
       "building_series_id                    int64\n",
       "building_type                        object\n",
       "unified_address                      object\n",
       "latitude                            float64\n",
       "longitude                           float64\n",
       "flats_count                           int64\n",
       "has_elevator                          int64\n",
       "ceiling_height                      float64\n",
       "build_year                          float64\n",
       "expect_demolition                     int64\n",
       "art_cnt                             float64\n",
       "beauty_cnt                          float64\n",
       "cafe_restaurant_eating_out_cnt      float64\n",
       "chain_cnt                           float64\n",
       "entertainment_cnt                   float64\n",
       "groceries_and_everyday_items_cnt    float64\n",
       "healthcare_cnt                      float64\n",
       "laundry_and_repair_services_cnt     float64\n",
       "shopping_cnt                        float64\n",
       "sport_cnt                           float64\n",
       "dtype: object"
      ]
     },
     "execution_count": 590,
     "metadata": {},
     "output_type": "execute_result"
    }
   ],
   "source": [
    "housebase.dtypes"
   ]
  },
  {
   "cell_type": "markdown",
   "metadata": {},
   "source": [
    "Разделим признаки на несколько групп:\n",
    "\n",
    "**-1:** `avg_price_sqm` (средняя цена, наша целевая переменная)\n",
    "\n",
    "**0:** `city_quadkey`, `month` (район и месяц, для чего мы предсказываем)\n",
    "\n",
    "**1:** `apartment_ratio`, `offers_in_sites_ratio`, `studio_ratio`, `rooms_offered_1_ratio`, `rooms_offered_2_ratio`, `rooms_offered_3_ratio`, `rooms_offered_4_more_ratio`, `total_area_avg` (описание объвлений на районе в этом месяце тип 1, из train)\n",
    "\n",
    "**2:** `unique_active_buildings_count`, `unique_active_building_series_count`, `offer_count` (описание объявлений на районе в этом месяце тип 2, из train)\n",
    "\n",
    "**3:** `beauty_cnt`, `shopping_cnt`, `cafe_restaurant_eating_out_cnt`, `entertainment_cnt`, `sport_cnt`, `chain_cnt`, `groceries_and_everyday_items_cnt`, `art_cnt`, `healthcare_cnt`, `laundry_and_repair_services_cnt` (описание района, из housebase)\n",
    "\n",
    "**4:** `building_id`, `building_series_id`, `building_type`, `unified_address`, `flats_count`, `expect_demolition`, `ceiling_height`, `has_elevator`, `build_year` + `latitude`, `longitude` (описание дома, из housebase)"
   ]
  },
  {
   "cell_type": "markdown",
   "metadata": {},
   "source": [
    "### Группа -1\n",
    "\n",
    "Постройте график распределения целевой переменной (`avg_price_sqm`). Здесь и далее лучше использовать функцию `distplot` из библиотеки `seaborn` с параметром ```kde=False```."
   ]
  },
  {
   "cell_type": "code",
   "execution_count": 591,
   "metadata": {
    "ExecuteTime": {
     "end_time": "2021-08-23T17:26:44.349168Z",
     "start_time": "2021-08-23T17:26:44.347262Z"
    }
   },
   "outputs": [
    {
     "data": {
      "image/png": "[encoded data removed]",
      "text/plain": [
       "<Figure size 1152x576 with 1 Axes>"
      ]
     },
     "metadata": {},
     "output_type": "display_data"
    }
   ],
   "source": [
    "### YOUR CODE HERE\n",
    "sns.distplot(train.avg_price_sqm, kde = False);"
   ]
  },
  {
   "cell_type": "markdown",
   "metadata": {},
   "source": [
    "### Группа 0\n",
    "\n",
    "- Выведите все уникальные значения месяцев в датасете, пересекаются ли они в обучающей и тестовой выборке?\n",
    "- Постройте график распределения количества объявлений в зависимости от месяца для обучающей выборки.\n",
    "- Посчитайте сколько уникальных районов представлено в датасете, в обучающей и тестовой выборке. Есть ли в тестовой выборке новые районы?"
   ]
  },
  {
   "cell_type": "code",
   "execution_count": 592,
   "metadata": {
    "ExecuteTime": {
     "end_time": "2021-08-23T17:26:45.088154Z",
     "start_time": "2021-08-23T17:26:45.086153Z"
    }
   },
   "outputs": [],
   "source": [
    "### YOUR CODE HERE\n",
    "train['month'] = pd.to_datetime(train['month'])\n",
    "test['month'] = pd.to_datetime(test['month'])\n",
    "train['month_name'] = train.month.dt.month\n",
    "test['month_name'] = test.month.dt.month"
   ]
  },
  {
   "cell_type": "code",
   "execution_count": 593,
   "metadata": {},
   "outputs": [
    {
     "data": {
      "text/plain": [
       "Text(0.5, 1.0, 'Train Month Distribution')"
      ]
     },
     "execution_count": 593,
     "metadata": {},
     "output_type": "execute_result"
    },
    {
     "data": {
      "image/png": "[encoded data removed]",
      "text/plain": [
       "<Figure size 1152x576 with 1 Axes>"
      ]
     },
     "metadata": {},
     "output_type": "display_data"
    }
   ],
   "source": [
    "dist_month_train = train.groupby('month_name').offer_count.sum()\n",
    "dist_month_test = test.groupby('month_name').offer_count.sum()\n",
    "sns.barplot(x = dist_month_train.index, y = dist_month_train.values)\n",
    "plt.title('Train Month Distribution')"
   ]
  },
  {
   "cell_type": "code",
   "execution_count": 594,
   "metadata": {},
   "outputs": [
    {
     "data": {
      "image/png": "[encoded data removed]",
      "text/plain": [
       "<Figure size 1152x576 with 1 Axes>"
      ]
     },
     "metadata": {},
     "output_type": "display_data"
    }
   ],
   "source": [
    "sns.barplot(x = dist_month_test.index, y = dist_month_test.values)\n",
    "plt.title('Test Month Distribution');"
   ]
  },
  {
   "cell_type": "markdown",
   "metadata": {},
   "source": [
    "Запишите в переменные (`train_nunique_month` и `train_nunique_quadkey`) количество уникальных значений в обучающей выборке для признаков `month` и `city_quadkey`."
   ]
  },
  {
   "cell_type": "code",
   "execution_count": 595,
   "metadata": {
    "ExecuteTime": {
     "end_time": "2021-08-23T17:26:45.768554Z",
     "start_time": "2021-08-23T17:26:45.764246Z"
    },
    "deletable": false,
    "nbgrader": {
     "cell_type": "code",
     "checksum": "8c05a8999241c271cb04f539a9ac43e1",
     "grade": false,
     "grade_id": "cell-ea2234714ac5e685",
     "locked": false,
     "schema_version": 3,
     "solution": true,
     "task": false
    }
   },
   "outputs": [],
   "source": [
    "# your code here\n",
    "train_nunique_quadkey = train.city_quadkey.nunique()\n",
    "train_nunique_month = train.month.nunique()"
   ]
  },
  {
   "cell_type": "code",
   "execution_count": 596,
   "metadata": {
    "ExecuteTime": {
     "end_time": "2021-08-23T17:26:46.267269Z",
     "start_time": "2021-08-23T17:26:46.262736Z"
    },
    "deletable": false,
    "editable": false,
    "nbgrader": {
     "cell_type": "code",
     "checksum": "4ade61af19882a7b3e9519bc16387dee",
     "grade": true,
     "grade_id": "cell-51862e679c1bedbb",
     "locked": true,
     "points": 5,
     "schema_version": 3,
     "solution": false,
     "task": false
    }
   },
   "outputs": [
    {
     "data": {
      "text/plain": [
       "6326"
      ]
     },
     "execution_count": 596,
     "metadata": {},
     "output_type": "execute_result"
    }
   ],
   "source": [
    "### GRADING, RUN TO TEST\n",
    "\n",
    "train_nunique_month\n",
    "train_nunique_quadkey\n"
   ]
  },
  {
   "cell_type": "markdown",
   "metadata": {},
   "source": [
    "### Группа 1\n",
    "\n",
    "Для каждого признака постройте график распределения. Есть ли какие-то неинформативные признаки, которые можно сразу выбросить?"
   ]
  },
  {
   "cell_type": "code",
   "execution_count": 597,
   "metadata": {
    "ExecuteTime": {
     "end_time": "2021-08-23T17:26:50.222710Z",
     "start_time": "2021-08-23T17:26:50.220615Z"
    }
   },
   "outputs": [
    {
     "data": {
      "image/png": "[encoded data removed]",
      "text/plain": [
       "<Figure size 1008x720 with 8 Axes>"
      ]
     },
     "metadata": {},
     "output_type": "display_data"
    }
   ],
   "source": [
    "### YOUR CODE HERE\n",
    "group_1 = train[['apartment_ratio', 'offers_in_sites_ratio',\n",
    "                 'studio_ratio', 'rooms_offered_1_ratio', \n",
    "                 'rooms_offered_2_ratio', 'rooms_offered_3_ratio', \n",
    "                 'rooms_offered_4_more_ratio', 'total_area_avg']]\n",
    "\n",
    "plt.figure(figsize=(14,10))\n",
    "for i, n in zip(group_1.columns, np.arange(1,len(group_1.columns)+1)):\n",
    "    plt.subplot(4,2,n)\n",
    "    sns.distplot(group_1[i], bins=20)\n",
    "    plt.title(i)"
   ]
  },
  {
   "cell_type": "markdown",
   "metadata": {},
   "source": [
    "Запишите в переменную `unwanted_cols` список с признаком, который можно будет удалить."
   ]
  },
  {
   "cell_type": "code",
   "execution_count": 598,
   "metadata": {
    "ExecuteTime": {
     "end_time": "2021-08-23T17:26:50.824476Z",
     "start_time": "2021-08-23T17:26:50.822223Z"
    },
    "deletable": false,
    "nbgrader": {
     "cell_type": "code",
     "checksum": "4349ea72476790feb70d64b60dfa2980",
     "grade": false,
     "grade_id": "cell-d4a36177e8b620c3",
     "locked": false,
     "schema_version": 3,
     "solution": true,
     "task": false
    }
   },
   "outputs": [],
   "source": [
    "# your code here\n",
    "unwanted_cols = ['apartment_ratio','offers_in_sites_ratio','rooms_offered_1_ratio']"
   ]
  },
  {
   "cell_type": "code",
   "execution_count": 599,
   "metadata": {
    "ExecuteTime": {
     "end_time": "2021-08-23T17:26:51.178425Z",
     "start_time": "2021-08-23T17:26:51.175710Z"
    },
    "deletable": false,
    "editable": false,
    "nbgrader": {
     "cell_type": "code",
     "checksum": "f7b193803a2a94ecdd06a1625c1ab353",
     "grade": true,
     "grade_id": "cell-ed21df1323c75a39",
     "locked": true,
     "points": 5,
     "schema_version": 3,
     "solution": false,
     "task": false
    }
   },
   "outputs": [
    {
     "data": {
      "text/plain": [
       "['apartment_ratio', 'offers_in_sites_ratio', 'rooms_offered_1_ratio']"
      ]
     },
     "execution_count": 599,
     "metadata": {},
     "output_type": "execute_result"
    }
   ],
   "source": [
    "### GRADING\n",
    "\n",
    "unwanted_cols\n"
   ]
  },
  {
   "cell_type": "markdown",
   "metadata": {},
   "source": [
    "### Группа 2\n",
    "\n",
    "Для каждого признака постройте график распределения. Есть ли какие-то неинформативные признаки, которые можно сразу выбросить? Добавьте их в список `unwanted_cols`."
   ]
  },
  {
   "cell_type": "code",
   "execution_count": 600,
   "metadata": {
    "ExecuteTime": {
     "end_time": "2021-08-23T17:26:53.409846Z",
     "start_time": "2021-08-23T17:26:53.407899Z"
    }
   },
   "outputs": [
    {
     "data": {
      "image/png": "[encoded data removed]",
      "text/plain": [
       "<Figure size 1008x720 with 3 Axes>"
      ]
     },
     "metadata": {},
     "output_type": "display_data"
    }
   ],
   "source": [
    "### YOUR CODE HERE\n",
    "group_2 = train[['unique_active_buildings_count', 'unique_active_building_series_count', 'offer_count']]\n",
    "\n",
    "plt.figure(figsize=(14,10))\n",
    "for i, n in zip(group_2.columns, np.arange(1,len(group_1.columns)+1)):\n",
    "    plt.subplot(3,1,n)\n",
    "    sns.distplot(group_2[i], bins=20)\n",
    "    plt.title(i)"
   ]
  },
  {
   "cell_type": "markdown",
   "metadata": {},
   "source": [
    "### Группа 3\n",
    "\n",
    "Для каждого признака постройте график распределения. \n",
    "\n",
    "Так как в этой группе признаки содержат информацию про количество тех или иных объектов на районе, физический смысл отсутствия информации - на районе нет таких объектов. В дальнейшем мы воспользуемся этой идеей для заполнения пропусков."
   ]
  },
  {
   "cell_type": "code",
   "execution_count": 601,
   "metadata": {
    "ExecuteTime": {
     "end_time": "2021-08-23T17:26:53.934220Z",
     "start_time": "2021-08-23T17:26:53.932195Z"
    }
   },
   "outputs": [
    {
     "data": {
      "image/png": "[encoded data removed]",
      "text/plain": [
       "<Figure size 1152x1008 with 8 Axes>"
      ]
     },
     "metadata": {},
     "output_type": "display_data"
    }
   ],
   "source": [
    "### YOUR CODE HERE\n",
    "group_3 = housebase[['beauty_cnt', 'shopping_cnt', \n",
    "                     'cafe_restaurant_eating_out_cnt', 'entertainment_cnt', \n",
    "                     'sport_cnt', 'chain_cnt', 'groceries_and_everyday_items_cnt', \n",
    "                     'art_cnt', 'healthcare_cnt', 'laundry_and_repair_services_cnt']]\n",
    "\n",
    "plt.figure(figsize=(16,14))\n",
    "for i, n in zip(group_3.columns, np.arange(1,len(group_1.columns)+1)):\n",
    "    plt.subplot(5,2,n)\n",
    "    sns.distplot(group_3[i], bins=20)\n",
    "    plt.title(i)"
   ]
  },
  {
   "cell_type": "markdown",
   "metadata": {},
   "source": [
    "### Группа 4\n",
    "\n",
    "- Постройте график распределения для  `building_id`.\n",
    "- Постройте графики распределения для `building_series_id` и `building_type`.\n",
    "- Постройте графики распределения для `flats_count`, `ceiling_height` и `build_year`.\n",
    "- Постройте графики распределения для `has_elevator` и `expect_demolition`.\n",
    "\n",
    "Выберите какие множества признаков, из указанных выше, нужно отнести к категориальным, какие к вещественным, а какое удалить. Признаки для удаления добавьте в `unwanted_cols`.\n",
    "\n",
    "\n",
    "Признаки `latitude` и `longitude` пока счаитайте вещественными признаками.\n",
    "\n"
   ]
  },
  {
   "cell_type": "code",
   "execution_count": 602,
   "metadata": {
    "ExecuteTime": {
     "end_time": "2021-08-23T17:26:54.632125Z",
     "start_time": "2021-08-23T17:26:54.630282Z"
    }
   },
   "outputs": [],
   "source": [
    "### YOUR CODE HERE\n",
    "group_4 = housebase[['building_id', 'building_series_id', \n",
    "                     'building_type', 'unified_address', \n",
    "                     'flats_count', 'expect_demolition', \n",
    "                     'ceiling_height', 'has_elevator', 'build_year',\n",
    "                     'latitude', 'longitude']]\n",
    "group_4_plot = group_4[['building_id','building_series_id','building_type', \n",
    "                       'flats_count', 'ceiling_height', 'build_year',\n",
    "                       'has_elevator', 'expect_demolition']]\n",
    "\n",
    "unwanted_cols.append(['building_id','building_series_id'])"
   ]
  },
  {
   "cell_type": "markdown",
   "metadata": {},
   "source": [
    "### Деление на категориальные и вещественные\n",
    "\n",
    "Учитывая\n",
    "\n",
    "- Вывод функции dtypes\n",
    "- Ваши выводы из графиков по группе 4\n",
    "- Список `unwated_cols` (их не включайте)\n",
    "\n",
    "Выделите все категориальные признаки, запишите их в переменные `cat_features`. Также мы проверим список `unwanted_cols`. Все остальные признаки занесите в список `real_features`. **Признак `city_quadkey` и целевую переменную `avg_price_sqm` никуда не вносите.**"
   ]
  },
  {
   "cell_type": "code",
   "execution_count": 603,
   "metadata": {},
   "outputs": [],
   "source": [
    "train = train.drop('month_name', axis=1)\n",
    "test = test.drop('month_name', axis=1)"
   ]
  },
  {
   "cell_type": "code",
   "execution_count": 604,
   "metadata": {},
   "outputs": [
    {
     "data": {
      "text/plain": [
       "['apartment_ratio',\n",
       " 'offers_in_sites_ratio',\n",
       " 'rooms_offered_1_ratio',\n",
       " ['building_id', 'building_series_id']]"
      ]
     },
     "execution_count": 604,
     "metadata": {},
     "output_type": "execute_result"
    }
   ],
   "source": [
    "unwanted_cols"
   ]
  },
  {
   "cell_type": "code",
   "execution_count": 605,
   "metadata": {
    "ExecuteTime": {
     "end_time": "2021-08-23T17:26:55.741277Z",
     "start_time": "2021-08-23T17:26:55.738380Z"
    },
    "deletable": false,
    "nbgrader": {
     "cell_type": "code",
     "checksum": "14b559fe0a5ee83fd9f3e474685d2ca6",
     "grade": false,
     "grade_id": "cell-aaeced4f6c63fcc1",
     "locked": false,
     "schema_version": 3,
     "solution": true,
     "task": false
    }
   },
   "outputs": [],
   "source": [
    "# your code here\n",
    "cat_features = ['building_type','month', 'season', 'build_year', 'unified_address']\n",
    "real_features = ['studio_ratio', 'rooms_offered_2_ratio',\n",
    "                 'rooms_offered_3_ratio', 'rooms_offered_4_more_ratio',\n",
    "                 'total_area_avg','unique_active_buildings_count', \n",
    "                 'unique_active_building_series_count','offer_count',\n",
    "                 'beauty_cnt', 'shopping_cnt', 'cafe_restaurant_eating_out_cnt',\n",
    "                 'entertainment_cnt', 'sport_cnt', 'chain_cnt',\n",
    "                 'groceries_and_everyday_items_cnt', 'art_cnt', 'healthcare_cnt',\n",
    "                 'laundry_and_repair_services_cnt', 'latitude', 'longitude',\n",
    "                 'flats_count', 'expect_demolition', 'ceiling_height', 'has_elevator']\n",
    "unwanted_cols = ['apartment_ratio','offers_in_sites_ratio', 'rooms_offered_1_ratio', 'building_id', 'building_series_id']"
   ]
  },
  {
   "cell_type": "code",
   "execution_count": 606,
   "metadata": {
    "deletable": false,
    "editable": false,
    "nbgrader": {
     "cell_type": "code",
     "checksum": "f9f3d1d739a5e301f575830ba07d6ad7",
     "grade": true,
     "grade_id": "cell-fea4cc6a01668856",
     "locked": true,
     "points": 5,
     "schema_version": 3,
     "solution": false,
     "task": false
    }
   },
   "outputs": [
    {
     "name": "stdout",
     "output_type": "stream",
     "text": [
      "... TESTING ...\n"
     ]
    }
   ],
   "source": [
    "### GRADING\n",
    "\n",
    "# checking for same number of columns\n",
    "# -3 is for city_quadkey and avg_price_sqm\n",
    "assert len(unwanted_cols) + len(cat_features) + len(real_features)\\\n",
    "        == len(train.columns) + len(housebase.columns) - 3\n",
    "\n",
    "print('... TESTING ...')\n"
   ]
  },
  {
   "cell_type": "markdown",
   "metadata": {},
   "source": [
    "## Генерация признаков\n",
    "\n",
    "Сгенерируем несколько новых признаков, разделим их на несколько групп:\n",
    "\n",
    "- Отсутствие информации про район/дом\n",
    "- Находится ли дом в Москве\n",
    "- Расстояние до центра города\n",
    "- Находится ли дом внутри колец\n",
    "- Время года\n",
    "\n",
    "Не забывайте добавлять новые признаки в списки `cat_features` или `real_features`."
   ]
  },
  {
   "cell_type": "markdown",
   "metadata": {},
   "source": [
    "### Отсутствие информации про район/дом\n",
    "\n",
    "Вспомните признаки из группы 3 и группы 4, для **каждого** признака (для простоты даже для тех, у которых нет пропусков) сделайте бинарный признак, который будет обозначать, что информация отсутствует, назовите их `col_name + '_isna'`. Создавать новые признаки стоит в `housebase`. Не создавайте признаки для `unwanted_cols`. Куда стоит отнести новые признаки? Добавьте их в список категориальных или вещественных признаков (`cat_features` или `real_features`).\n",
    "\n",
    "Заполните пропуски: для категориальных новым значением `UNKNOWN`, для вещественных нулём."
   ]
  },
  {
   "cell_type": "code",
   "execution_count": 607,
   "metadata": {
    "ExecuteTime": {
     "end_time": "2021-08-23T17:26:58.643721Z",
     "start_time": "2021-08-23T17:26:58.612231Z"
    },
    "deletable": false,
    "nbgrader": {
     "cell_type": "code",
     "checksum": "bac178637112667778e081ca5ccb0c1f",
     "grade": false,
     "grade_id": "cell-7e6384ff94126e4c",
     "locked": false,
     "schema_version": 3,
     "solution": true,
     "task": false
    }
   },
   "outputs": [],
   "source": [
    "# your code here\n",
    "cols = list(group_3.columns.append(group_4.columns))\n",
    "cols.remove('building_id') \n",
    "cols.remove('building_series_id')"
   ]
  },
  {
   "cell_type": "code",
   "execution_count": 608,
   "metadata": {},
   "outputs": [],
   "source": [
    "for i in cols:\n",
    "    housebase[i + '_isna'] = housebase[i].isna()"
   ]
  },
  {
   "cell_type": "code",
   "execution_count": 609,
   "metadata": {},
   "outputs": [
    {
     "data": {
      "text/plain": [
       "(10000, 41)"
      ]
     },
     "execution_count": 609,
     "metadata": {},
     "output_type": "execute_result"
    }
   ],
   "source": [
    "housebase.shape"
   ]
  },
  {
   "cell_type": "code",
   "execution_count": 610,
   "metadata": {},
   "outputs": [],
   "source": [
    "for i in housebase.columns:\n",
    "    if housebase[i].dtype == 'int64' or housebase[i].dtype == 'float64':\n",
    "        housebase[i] = housebase[i].fillna(0)\n",
    "    if housebase[i].dtype == 'object':\n",
    "        housebase[i] = housebase[i].fillna('UNKNOWN')"
   ]
  },
  {
   "cell_type": "code",
   "execution_count": 611,
   "metadata": {},
   "outputs": [
    {
     "data": {
      "text/plain": [
       "0"
      ]
     },
     "execution_count": 611,
     "metadata": {},
     "output_type": "execute_result"
    }
   ],
   "source": [
    "housebase.isna().sum().sum()"
   ]
  },
  {
   "cell_type": "code",
   "execution_count": 612,
   "metadata": {
    "ExecuteTime": {
     "end_time": "2021-08-23T17:28:08.925303Z",
     "start_time": "2021-08-23T17:28:08.916530Z"
    },
    "deletable": false,
    "editable": false,
    "nbgrader": {
     "cell_type": "code",
     "checksum": "7ae662bb575a65df9d006134c1e65463",
     "grade": true,
     "grade_id": "cell-743d122dd3822e34",
     "locked": true,
     "points": 10,
     "schema_version": 3,
     "solution": false,
     "task": false
    }
   },
   "outputs": [
    {
     "name": "stdout",
     "output_type": "stream",
     "text": [
      "... TESTING ...\n"
     ]
    }
   ],
   "source": [
    "### GRADING\n",
    "\n",
    "for col in ['art_cnt', 'beauty_cnt', 'cafe_restaurant_eating_out_cnt', 'chain_cnt', 'entertainment_cnt', 'groceries_and_everyday_items_cnt', 'healthcare_cnt', 'laundry_and_repair_services_cnt', 'shopping_cnt', 'sport_cnt']:\n",
    "    assert col + '_isna' in housebase.columns\n",
    "# Проверка для признаков из группы 4 скрыта\n",
    "    \n",
    "print('... TESTING ...')\n"
   ]
  },
  {
   "cell_type": "markdown",
   "metadata": {},
   "source": [
    "### Находится ли дом в Москве\n",
    "\n",
    "Сделайте новый бинарный признак, который будет обозначать находится ли дом в Москве, назовите его `is_in_Moscow`. Для этого стоит анализировать уже имеющийся признак `unified_address`. Добавьте новый признак в соответствующий список."
   ]
  },
  {
   "cell_type": "code",
   "execution_count": 613,
   "metadata": {
    "ExecuteTime": {
     "end_time": "2021-08-23T17:28:11.428202Z",
     "start_time": "2021-08-23T17:28:11.412250Z"
    },
    "deletable": false,
    "nbgrader": {
     "cell_type": "code",
     "checksum": "7a39f6e07fd20e8f5fae686094ab8c9d",
     "grade": false,
     "grade_id": "cell-8a0a087fdae81cbf",
     "locked": false,
     "schema_version": 3,
     "solution": true,
     "task": false
    },
    "scrolled": true
   },
   "outputs": [],
   "source": [
    "# your code here\n",
    "housebase['is_in_Moscow'] = housebase.unified_address.apply(lambda x: x.split(' ')[1])\n",
    "housebase['is_in_Moscow'] = (housebase['is_in_Moscow'] == 'Москва,')"
   ]
  },
  {
   "cell_type": "code",
   "execution_count": 614,
   "metadata": {
    "ExecuteTime": {
     "end_time": "2021-08-23T17:28:11.907371Z",
     "start_time": "2021-08-23T17:28:11.891179Z"
    },
    "deletable": false,
    "editable": false,
    "nbgrader": {
     "cell_type": "code",
     "checksum": "dcea6295290fbf58524d533ed79dd29f",
     "grade": true,
     "grade_id": "cell-45a9181278864ae2",
     "locked": true,
     "points": 5,
     "schema_version": 3,
     "solution": false,
     "task": false
    }
   },
   "outputs": [
    {
     "name": "stdout",
     "output_type": "stream",
     "text": [
      "... TESTING ...\n"
     ]
    }
   ],
   "source": [
    "### GRADING\n",
    "\n",
    "assert 'is_in_Moscow' in housebase.columns\n",
    "\n",
    "print('... TESTING ...')\n"
   ]
  },
  {
   "cell_type": "markdown",
   "metadata": {},
   "source": [
    "### Расстояние до центра города\n",
    "\n",
    "Создайте новый вещественный признак, который будет равен расстоянию (по формуле haversine) от дома до Кремля, назовите его `center_dist`. Координаты Кремля: (55.7528, 37.6178). Добавьте признак в список категориальных или вещественных."
   ]
  },
  {
   "cell_type": "code",
   "execution_count": 615,
   "metadata": {},
   "outputs": [
    {
     "name": "stdout",
     "output_type": "stream",
     "text": [
      "Requirement already satisfied: haversine in /opt/conda/lib/python3.7/site-packages (2.5.1)\n",
      "\u001b[33mWARNING: You are using pip version 21.2.4; however, version 21.3.1 is available.\n",
      "You should consider upgrading via the '/opt/conda/bin/python -m pip install --upgrade pip' command.\u001b[0m\n",
      "Note: you may need to restart the kernel to use updated packages.\n"
     ]
    }
   ],
   "source": [
    "pip install haversine"
   ]
  },
  {
   "cell_type": "code",
   "execution_count": 616,
   "metadata": {
    "ExecuteTime": {
     "end_time": "2021-08-23T17:28:13.449300Z",
     "start_time": "2021-08-23T17:28:12.995117Z"
    },
    "deletable": false,
    "nbgrader": {
     "cell_type": "code",
     "checksum": "04dcfcaa6ea7d982d3c1b649a4619c36",
     "grade": false,
     "grade_id": "cell-e0cbea832716f94e",
     "locked": false,
     "schema_version": 3,
     "solution": true,
     "task": false
    }
   },
   "outputs": [],
   "source": [
    "# your code here\n",
    "from haversine import haversine, Unit\n",
    "\n",
    "matr = []\n",
    "for i, j in zip(housebase.latitude, housebase.longitude):\n",
    "    matr.append((i,j))\n",
    "\n",
    "cremle = (55.7528, 37.6178)\n",
    "cremle = [cremle] * 10000"
   ]
  },
  {
   "cell_type": "code",
   "execution_count": 617,
   "metadata": {},
   "outputs": [],
   "source": [
    "center_dist = []\n",
    "n=0\n",
    "for i, j in zip(matr, cremle):\n",
    "    center_dist.append(haversine(matr[n], cremle[n]))\n",
    "    n+=1\n"
   ]
  },
  {
   "cell_type": "code",
   "execution_count": 618,
   "metadata": {},
   "outputs": [],
   "source": [
    "housebase['center_dist'] = center_dist"
   ]
  },
  {
   "cell_type": "code",
   "execution_count": 619,
   "metadata": {
    "ExecuteTime": {
     "end_time": "2021-08-23T17:28:14.304379Z",
     "start_time": "2021-08-23T17:28:13.849380Z"
    },
    "deletable": false,
    "editable": false,
    "nbgrader": {
     "cell_type": "code",
     "checksum": "569baa5247ebc6d88d59a281ed8a8ea9",
     "grade": true,
     "grade_id": "cell-15c992b227056a55",
     "locked": true,
     "points": 10,
     "schema_version": 3,
     "solution": false,
     "task": false
    }
   },
   "outputs": [
    {
     "name": "stdout",
     "output_type": "stream",
     "text": [
      "... TESTING ...\n"
     ]
    }
   ],
   "source": [
    "### GRADING\n",
    "\n",
    "assert 'center_dist' in housebase.columns\n",
    "\n",
    "print('... TESTING ...')\n"
   ]
  },
  {
   "cell_type": "markdown",
   "metadata": {},
   "source": [
    "### Находится ли дом внутри колец\n",
    "\n",
    "Создайте три новых бинарных признака - находится ли дом внутри Бульварного, Садового или Третьего Транспортного Кольца. Для этого стоит сравнить уже полученное расстояние до Кремля с 1.5, 3 и 6 километрами, соответственно. Назовите их `ring_1`, `ring_2` и `ring_3` соответственно. Добавьте в список категориальных или вещественных."
   ]
  },
  {
   "cell_type": "code",
   "execution_count": 620,
   "metadata": {
    "ExecuteTime": {
     "end_time": "2021-08-23T17:28:15.287557Z",
     "start_time": "2021-08-23T17:28:15.283122Z"
    },
    "deletable": false,
    "nbgrader": {
     "cell_type": "code",
     "checksum": "798d992af498d30e86ca5380fc1eeebb",
     "grade": false,
     "grade_id": "cell-180b3b75ff4005ae",
     "locked": false,
     "schema_version": 3,
     "solution": true,
     "task": false
    }
   },
   "outputs": [],
   "source": [
    "# your code here\n",
    "housebase['ring_1'] = housebase['center_dist'] <= 1.5\n",
    "housebase['ring_2'] = housebase['center_dist'] <= 3\n",
    "housebase['ring_3'] = housebase['center_dist'] <= 6"
   ]
  },
  {
   "cell_type": "code",
   "execution_count": 621,
   "metadata": {},
   "outputs": [
    {
     "data": {
      "text/plain": [
       "['apartment_ratio',\n",
       " 'offers_in_sites_ratio',\n",
       " 'rooms_offered_1_ratio',\n",
       " 'building_id',\n",
       " 'building_series_id']"
      ]
     },
     "execution_count": 621,
     "metadata": {},
     "output_type": "execute_result"
    }
   ],
   "source": [
    "unwanted_cols"
   ]
  },
  {
   "cell_type": "code",
   "execution_count": 622,
   "metadata": {},
   "outputs": [],
   "source": [
    "cat_features = ['building_id', 'building_series_id','building_type','month', 'season',\n",
    "                'build_year', 'unified_address','has_elevator','beauty_cnt_isna', 'shopping_cnt_isna',\n",
    "       'cafe_restaurant_eating_out_cnt_isna', 'entertainment_cnt_isna',\n",
    "       'sport_cnt_isna', 'chain_cnt_isna',\n",
    "       'groceries_and_everyday_items_cnt_isna', 'art_cnt_isna',\n",
    "       'healthcare_cnt_isna', 'laundry_and_repair_services_cnt_isna',\n",
    "       'building_type_isna', 'unified_address_isna', 'flats_count_isna', 'expect_demolition_isna',\n",
    "       'ceiling_height_isna', 'has_elevator_isna', 'build_year_isna',\n",
    "       'latitude_isna', 'longitude_isna', 'is_in_Moscow', 'ring_1', 'ring_2', 'ring_3', 'offers_in_sites_ratio']"
   ]
  },
  {
   "cell_type": "code",
   "execution_count": 623,
   "metadata": {},
   "outputs": [],
   "source": [
    "real_features = ['apartment_ratio',\n",
    "    'studio_ratio',\n",
    " 'rooms_offered_1_ratio',\n",
    " 'rooms_offered_2_ratio',\n",
    " 'rooms_offered_3_ratio',\n",
    " 'rooms_offered_4_more_ratio',\n",
    " 'total_area_avg',\n",
    " 'unique_active_buildings_count',\n",
    " 'unique_active_building_series_count',\n",
    " 'offer_count',\n",
    " 'beauty_cnt',\n",
    " 'shopping_cnt',\n",
    " 'cafe_restaurant_eating_out_cnt',\n",
    " 'entertainment_cnt',\n",
    " 'sport_cnt',\n",
    " 'chain_cnt',\n",
    " 'groceries_and_everyday_items_cnt',\n",
    " 'art_cnt',\n",
    " 'healthcare_cnt',\n",
    " 'laundry_and_repair_services_cnt',\n",
    " 'latitude',\n",
    " 'longitude',\n",
    " 'flats_count',\n",
    " 'expect_demolition',\n",
    " 'ceiling_height',\n",
    " 'centet_dist']"
   ]
  },
  {
   "cell_type": "markdown",
   "metadata": {},
   "source": [
    "## Проверка разделения на категориальные и вещественные признаки\n",
    "\n",
    "После очередных преобразований признаков, проверим, правильные ли у Вас получились списки признаков:"
   ]
  },
  {
   "cell_type": "code",
   "execution_count": 624,
   "metadata": {
    "ExecuteTime": {
     "end_time": "2021-08-23T17:28:17.401225Z",
     "start_time": "2021-08-23T17:28:17.396891Z"
    },
    "deletable": false,
    "editable": false,
    "nbgrader": {
     "cell_type": "code",
     "checksum": "b0903d4735bd8c0bc34129cf3f127ad4",
     "grade": true,
     "grade_id": "cell-d54814e392923de1",
     "locked": true,
     "points": 5,
     "schema_version": 3,
     "solution": false,
     "task": false
    }
   },
   "outputs": [
    {
     "name": "stdout",
     "output_type": "stream",
     "text": [
      "... TESTING ...\n"
     ]
    }
   ],
   "source": [
    "### GRADING\n",
    "\n",
    "assert len(cat_features) == 32\n",
    "assert len(real_features) == 26\n",
    "\n",
    "print('... TESTING ...')\n"
   ]
  },
  {
   "cell_type": "markdown",
   "metadata": {},
   "source": [
    "## Подготовка данных для обучения"
   ]
  },
  {
   "cell_type": "markdown",
   "metadata": {},
   "source": [
    "Теперь нам надо объединить обе таблички, чтобы добавить информацию про дома для каждого района. Перед тем как объединять таблички нам нужно будет создать для каждого района образ \"среднего\" дома по району.\n",
    "\n",
    "Для этого мы для каждого категориального признака возьмем моду, для каждого вещественного медиану.\n",
    "\n",
    "Произведите вышеописанные манипуляции с housebase."
   ]
  },
  {
   "cell_type": "code",
   "execution_count": 667,
   "metadata": {
    "ExecuteTime": {
     "end_time": "2021-08-23T17:28:19.063841Z",
     "start_time": "2021-08-23T17:28:19.060151Z"
    },
    "deletable": false,
    "nbgrader": {
     "cell_type": "code",
     "checksum": "ce6ad4ec06da132c8f20e10d5f83a8b3",
     "grade": false,
     "grade_id": "cell-b361ba5df6bfe485",
     "locked": false,
     "schema_version": 3,
     "solution": true,
     "task": false
    }
   },
   "outputs": [],
   "source": [
    "import scipy\n",
    "\n",
    "real_housebase = np.intersect1d(real_features, housebase.columns)\n",
    "cat_housebase = np.intersect1d(cat_features, housebase.columns)\n",
    "\n",
    "\n",
    "def combine_housebase(quadkeys_):\n",
    "    groups = housebase.loc[housebase['city_quadkey'].isin(quadkeys_)].groupby('city_quadkey')\n",
    "    \n",
    "    real_cols = []\n",
    "    \n",
    "    for col in real_housebase:  # USE median\n",
    "        # your code here\n",
    "        real_cols.append(np.median(housebase[col]))\n",
    "        \n",
    "    cat_cols = []  # USE pd.Series.mode and agg\n",
    "\n",
    "    # your code here\n",
    "    for col in cat_housebase:\n",
    "        if pd.Series.mode(housebase[col]).shape != housebase[col].shape:\n",
    "            cat_cols.append(pd.Series.mode(housebase[col]))\n",
    "\n",
    "    return pd.concat(real_cols + cat_cols, axis=1).reset_index(drop=False)"
   ]
  },
  {
   "cell_type": "code",
   "execution_count": 644,
   "metadata": {},
   "outputs": [
    {
     "data": {
      "text/plain": [
       "array(['art_cnt_isna', 'beauty_cnt_isna', 'build_year', 'build_year_isna',\n",
       "       'building_id', 'building_series_id', 'building_type',\n",
       "       'building_type_isna', 'cafe_restaurant_eating_out_cnt_isna',\n",
       "       'ceiling_height_isna', 'chain_cnt_isna', 'entertainment_cnt_isna',\n",
       "       'expect_demolition_isna', 'flats_count_isna',\n",
       "       'groceries_and_everyday_items_cnt_isna', 'has_elevator',\n",
       "       'has_elevator_isna', 'healthcare_cnt_isna', 'is_in_Moscow',\n",
       "       'latitude_isna', 'laundry_and_repair_services_cnt_isna',\n",
       "       'longitude_isna', 'ring_1', 'ring_2', 'ring_3',\n",
       "       'shopping_cnt_isna', 'sport_cnt_isna', 'unified_address',\n",
       "       'unified_address_isna'], dtype=object)"
      ]
     },
     "execution_count": 644,
     "metadata": {},
     "output_type": "execute_result"
    }
   ],
   "source": [
    "cat_housebase"
   ]
  },
  {
   "cell_type": "code",
   "execution_count": 665,
   "metadata": {},
   "outputs": [
    {
     "data": {
      "text/plain": [
       "True"
      ]
     },
     "execution_count": 665,
     "metadata": {},
     "output_type": "execute_result"
    }
   ],
   "source": [
    "pd.Series.mode(housebase['building_id']).shape == housebase['building_id'].shape"
   ]
  },
  {
   "cell_type": "code",
   "execution_count": 668,
   "metadata": {},
   "outputs": [
    {
     "ename": "TypeError",
     "evalue": "cannot concatenate object of type '<class 'numpy.float64'>'; only Series and DataFrame objs are valid",
     "output_type": "error",
     "traceback": [
      "\u001b[0;31m---------------------------------------------------------------------------\u001b[0m",
      "\u001b[0;31mTypeError\u001b[0m                                 Traceback (most recent call last)",
      "\u001b[0;32m<ipython-input-668-a1bc0bf7c492>\u001b[0m in \u001b[0;36m<module>\u001b[0;34m\u001b[0m\n\u001b[0;32m----> 1\u001b[0;31m \u001b[0mcombine_housebase\u001b[0m\u001b[0;34m(\u001b[0m\u001b[0mhousebase\u001b[0m\u001b[0;34m[\u001b[0m\u001b[0;34m'city_quadkey'\u001b[0m\u001b[0;34m]\u001b[0m\u001b[0;34m.\u001b[0m\u001b[0munique\u001b[0m\u001b[0;34m(\u001b[0m\u001b[0;34m)\u001b[0m\u001b[0;34m)\u001b[0m\u001b[0;34m\u001b[0m\u001b[0;34m\u001b[0m\u001b[0m\n\u001b[0m",
      "\u001b[0;32m<ipython-input-667-9c3d11c13b47>\u001b[0m in \u001b[0;36mcombine_housebase\u001b[0;34m(quadkeys_)\u001b[0m\n\u001b[1;32m     21\u001b[0m             \u001b[0mcat_cols\u001b[0m\u001b[0;34m.\u001b[0m\u001b[0mappend\u001b[0m\u001b[0;34m(\u001b[0m\u001b[0mpd\u001b[0m\u001b[0;34m.\u001b[0m\u001b[0mSeries\u001b[0m\u001b[0;34m.\u001b[0m\u001b[0mmode\u001b[0m\u001b[0;34m(\u001b[0m\u001b[0mhousebase\u001b[0m\u001b[0;34m[\u001b[0m\u001b[0mcol\u001b[0m\u001b[0;34m]\u001b[0m\u001b[0;34m)\u001b[0m\u001b[0;34m)\u001b[0m\u001b[0;34m\u001b[0m\u001b[0;34m\u001b[0m\u001b[0m\n\u001b[1;32m     22\u001b[0m \u001b[0;34m\u001b[0m\u001b[0m\n\u001b[0;32m---> 23\u001b[0;31m     \u001b[0;32mreturn\u001b[0m \u001b[0mpd\u001b[0m\u001b[0;34m.\u001b[0m\u001b[0mconcat\u001b[0m\u001b[0;34m(\u001b[0m\u001b[0mreal_cols\u001b[0m \u001b[0;34m+\u001b[0m \u001b[0mcat_cols\u001b[0m\u001b[0;34m,\u001b[0m \u001b[0maxis\u001b[0m\u001b[0;34m=\u001b[0m\u001b[0;36m1\u001b[0m\u001b[0;34m)\u001b[0m\u001b[0;34m.\u001b[0m\u001b[0mreset_index\u001b[0m\u001b[0;34m(\u001b[0m\u001b[0mdrop\u001b[0m\u001b[0;34m=\u001b[0m\u001b[0;32mFalse\u001b[0m\u001b[0;34m)\u001b[0m\u001b[0;34m\u001b[0m\u001b[0;34m\u001b[0m\u001b[0m\n\u001b[0m",
      "\u001b[0;32m/opt/conda/lib/python3.7/site-packages/pandas/core/reshape/concat.py\u001b[0m in \u001b[0;36mconcat\u001b[0;34m(objs, axis, join, ignore_index, keys, levels, names, verify_integrity, sort, copy)\u001b[0m\n\u001b[1;32m    279\u001b[0m         \u001b[0mverify_integrity\u001b[0m\u001b[0;34m=\u001b[0m\u001b[0mverify_integrity\u001b[0m\u001b[0;34m,\u001b[0m\u001b[0;34m\u001b[0m\u001b[0;34m\u001b[0m\u001b[0m\n\u001b[1;32m    280\u001b[0m         \u001b[0mcopy\u001b[0m\u001b[0;34m=\u001b[0m\u001b[0mcopy\u001b[0m\u001b[0;34m,\u001b[0m\u001b[0;34m\u001b[0m\u001b[0;34m\u001b[0m\u001b[0m\n\u001b[0;32m--> 281\u001b[0;31m         \u001b[0msort\u001b[0m\u001b[0;34m=\u001b[0m\u001b[0msort\u001b[0m\u001b[0;34m,\u001b[0m\u001b[0;34m\u001b[0m\u001b[0;34m\u001b[0m\u001b[0m\n\u001b[0m\u001b[1;32m    282\u001b[0m     )\n\u001b[1;32m    283\u001b[0m \u001b[0;34m\u001b[0m\u001b[0m\n",
      "\u001b[0;32m/opt/conda/lib/python3.7/site-packages/pandas/core/reshape/concat.py\u001b[0m in \u001b[0;36m__init__\u001b[0;34m(self, objs, axis, join, keys, levels, names, ignore_index, verify_integrity, copy, sort)\u001b[0m\n\u001b[1;32m    355\u001b[0m                     \u001b[0;34m\"only Series and DataFrame objs are valid\"\u001b[0m\u001b[0;34m.\u001b[0m\u001b[0mformat\u001b[0m\u001b[0;34m(\u001b[0m\u001b[0mtyp\u001b[0m\u001b[0;34m=\u001b[0m\u001b[0mtype\u001b[0m\u001b[0;34m(\u001b[0m\u001b[0mobj\u001b[0m\u001b[0;34m)\u001b[0m\u001b[0;34m)\u001b[0m\u001b[0;34m\u001b[0m\u001b[0;34m\u001b[0m\u001b[0m\n\u001b[1;32m    356\u001b[0m                 )\n\u001b[0;32m--> 357\u001b[0;31m                 \u001b[0;32mraise\u001b[0m \u001b[0mTypeError\u001b[0m\u001b[0;34m(\u001b[0m\u001b[0mmsg\u001b[0m\u001b[0;34m)\u001b[0m\u001b[0;34m\u001b[0m\u001b[0;34m\u001b[0m\u001b[0m\n\u001b[0m\u001b[1;32m    358\u001b[0m \u001b[0;34m\u001b[0m\u001b[0m\n\u001b[1;32m    359\u001b[0m             \u001b[0;31m# consolidate\u001b[0m\u001b[0;34m\u001b[0m\u001b[0;34m\u001b[0m\u001b[0;34m\u001b[0m\u001b[0m\n",
      "\u001b[0;31mTypeError\u001b[0m: cannot concatenate object of type '<class 'numpy.float64'>'; only Series and DataFrame objs are valid"
     ]
    }
   ],
   "source": [
    "combine_housebase(housebase['city_quadkey'].unique())"
   ]
  },
  {
   "cell_type": "code",
   "execution_count": 632,
   "metadata": {
    "ExecuteTime": {
     "end_time": "2021-08-23T17:28:24.070071Z",
     "start_time": "2021-08-23T17:28:21.770615Z"
    }
   },
   "outputs": [
    {
     "ename": "TypeError",
     "evalue": "cannot concatenate object of type '<class 'numpy.float64'>'; only Series and DataFrame objs are valid",
     "output_type": "error",
     "traceback": [
      "\u001b[0;31m---------------------------------------------------------------------------\u001b[0m",
      "\u001b[0;31mTypeError\u001b[0m                                 Traceback (most recent call last)",
      "\u001b[0;32m<ipython-input-632-068ea3aa4072>\u001b[0m in \u001b[0;36m<module>\u001b[0;34m\u001b[0m\n\u001b[0;32m----> 1\u001b[0;31m \u001b[0mhousebase_n\u001b[0m \u001b[0;34m=\u001b[0m \u001b[0mcombine_housebase\u001b[0m\u001b[0;34m(\u001b[0m\u001b[0mhousebase\u001b[0m\u001b[0;34m[\u001b[0m\u001b[0;34m'city_quadkey'\u001b[0m\u001b[0;34m]\u001b[0m\u001b[0;34m.\u001b[0m\u001b[0munique\u001b[0m\u001b[0;34m(\u001b[0m\u001b[0;34m)\u001b[0m\u001b[0;34m)\u001b[0m\u001b[0;34m\u001b[0m\u001b[0;34m\u001b[0m\u001b[0m\n\u001b[0m",
      "\u001b[0;32m<ipython-input-631-79b65b9e7194>\u001b[0m in \u001b[0;36mcombine_housebase\u001b[0;34m(quadkeys_)\u001b[0m\n\u001b[1;32m     20\u001b[0m         \u001b[0mcat_cols\u001b[0m\u001b[0;34m.\u001b[0m\u001b[0mappend\u001b[0m\u001b[0;34m(\u001b[0m\u001b[0mpd\u001b[0m\u001b[0;34m.\u001b[0m\u001b[0mSeries\u001b[0m\u001b[0;34m.\u001b[0m\u001b[0mmode\u001b[0m\u001b[0;34m(\u001b[0m\u001b[0mhousebase\u001b[0m\u001b[0;34m[\u001b[0m\u001b[0mcol\u001b[0m\u001b[0;34m]\u001b[0m\u001b[0;34m)\u001b[0m\u001b[0;34m)\u001b[0m\u001b[0;34m\u001b[0m\u001b[0;34m\u001b[0m\u001b[0m\n\u001b[1;32m     21\u001b[0m \u001b[0;34m\u001b[0m\u001b[0m\n\u001b[0;32m---> 22\u001b[0;31m     \u001b[0;32mreturn\u001b[0m \u001b[0mpd\u001b[0m\u001b[0;34m.\u001b[0m\u001b[0mconcat\u001b[0m\u001b[0;34m(\u001b[0m\u001b[0mreal_cols\u001b[0m \u001b[0;34m+\u001b[0m \u001b[0mcat_cols\u001b[0m\u001b[0;34m,\u001b[0m \u001b[0maxis\u001b[0m\u001b[0;34m=\u001b[0m\u001b[0;36m1\u001b[0m\u001b[0;34m)\u001b[0m\u001b[0;34m.\u001b[0m\u001b[0mreset_index\u001b[0m\u001b[0;34m(\u001b[0m\u001b[0mdrop\u001b[0m\u001b[0;34m=\u001b[0m\u001b[0;32mFalse\u001b[0m\u001b[0;34m)\u001b[0m\u001b[0;34m\u001b[0m\u001b[0;34m\u001b[0m\u001b[0m\n\u001b[0m",
      "\u001b[0;32m/opt/conda/lib/python3.7/site-packages/pandas/core/reshape/concat.py\u001b[0m in \u001b[0;36mconcat\u001b[0;34m(objs, axis, join, ignore_index, keys, levels, names, verify_integrity, sort, copy)\u001b[0m\n\u001b[1;32m    279\u001b[0m         \u001b[0mverify_integrity\u001b[0m\u001b[0;34m=\u001b[0m\u001b[0mverify_integrity\u001b[0m\u001b[0;34m,\u001b[0m\u001b[0;34m\u001b[0m\u001b[0;34m\u001b[0m\u001b[0m\n\u001b[1;32m    280\u001b[0m         \u001b[0mcopy\u001b[0m\u001b[0;34m=\u001b[0m\u001b[0mcopy\u001b[0m\u001b[0;34m,\u001b[0m\u001b[0;34m\u001b[0m\u001b[0;34m\u001b[0m\u001b[0m\n\u001b[0;32m--> 281\u001b[0;31m         \u001b[0msort\u001b[0m\u001b[0;34m=\u001b[0m\u001b[0msort\u001b[0m\u001b[0;34m,\u001b[0m\u001b[0;34m\u001b[0m\u001b[0;34m\u001b[0m\u001b[0m\n\u001b[0m\u001b[1;32m    282\u001b[0m     )\n\u001b[1;32m    283\u001b[0m \u001b[0;34m\u001b[0m\u001b[0m\n",
      "\u001b[0;32m/opt/conda/lib/python3.7/site-packages/pandas/core/reshape/concat.py\u001b[0m in \u001b[0;36m__init__\u001b[0;34m(self, objs, axis, join, keys, levels, names, ignore_index, verify_integrity, copy, sort)\u001b[0m\n\u001b[1;32m    355\u001b[0m                     \u001b[0;34m\"only Series and DataFrame objs are valid\"\u001b[0m\u001b[0;34m.\u001b[0m\u001b[0mformat\u001b[0m\u001b[0;34m(\u001b[0m\u001b[0mtyp\u001b[0m\u001b[0;34m=\u001b[0m\u001b[0mtype\u001b[0m\u001b[0;34m(\u001b[0m\u001b[0mobj\u001b[0m\u001b[0;34m)\u001b[0m\u001b[0;34m)\u001b[0m\u001b[0;34m\u001b[0m\u001b[0;34m\u001b[0m\u001b[0m\n\u001b[1;32m    356\u001b[0m                 )\n\u001b[0;32m--> 357\u001b[0;31m                 \u001b[0;32mraise\u001b[0m \u001b[0mTypeError\u001b[0m\u001b[0;34m(\u001b[0m\u001b[0mmsg\u001b[0m\u001b[0;34m)\u001b[0m\u001b[0;34m\u001b[0m\u001b[0;34m\u001b[0m\u001b[0m\n\u001b[0m\u001b[1;32m    358\u001b[0m \u001b[0;34m\u001b[0m\u001b[0m\n\u001b[1;32m    359\u001b[0m             \u001b[0;31m# consolidate\u001b[0m\u001b[0;34m\u001b[0m\u001b[0;34m\u001b[0m\u001b[0;34m\u001b[0m\u001b[0m\n",
      "\u001b[0;31mTypeError\u001b[0m: cannot concatenate object of type '<class 'numpy.float64'>'; only Series and DataFrame objs are valid"
     ]
    }
   ],
   "source": [
    "housebase_n = combine_housebase(housebase['city_quadkey'].unique())"
   ]
  },
  {
   "cell_type": "code",
   "execution_count": null,
   "metadata": {},
   "outputs": [],
   "source": [
    "def fix_multiple_modes(x):\n",
    "    if isinstance(x, (list, tuple, np.ndarray)):\n",
    "        return x[0]\n",
    "    return x\n",
    "\n",
    "housebase['building_type'] = housebase['building_type'].apply(fix_multiple_modes)"
   ]
  },
  {
   "cell_type": "code",
   "execution_count": 641,
   "metadata": {
    "ExecuteTime": {
     "end_time": "2021-08-23T17:29:13.876928Z",
     "start_time": "2021-08-23T17:29:13.871813Z"
    },
    "deletable": false,
    "editable": false,
    "nbgrader": {
     "cell_type": "code",
     "checksum": "099678fbb81ffa372418811be95401fd",
     "grade": true,
     "grade_id": "cell-87eb1eab7776962a",
     "locked": true,
     "points": 15,
     "schema_version": 3,
     "solution": false,
     "task": false
    }
   },
   "outputs": [
    {
     "ename": "AssertionError",
     "evalue": "",
     "output_type": "error",
     "traceback": [
      "\u001b[0;31m---------------------------------------------------------------------------\u001b[0m",
      "\u001b[0;31mAssertionError\u001b[0m                            Traceback (most recent call last)",
      "\u001b[0;32m<ipython-input-641-ec6e2139076d>\u001b[0m in \u001b[0;36m<module>\u001b[0;34m\u001b[0m\n\u001b[1;32m      1\u001b[0m \u001b[0;31m### GRADING\u001b[0m\u001b[0;34m\u001b[0m\u001b[0;34m\u001b[0m\u001b[0;34m\u001b[0m\u001b[0m\n\u001b[1;32m      2\u001b[0m \u001b[0;34m\u001b[0m\u001b[0m\n\u001b[0;32m----> 3\u001b[0;31m \u001b[0;32massert\u001b[0m \u001b[0mlen\u001b[0m\u001b[0;34m(\u001b[0m\u001b[0mhousebase\u001b[0m\u001b[0;34m)\u001b[0m \u001b[0;34m==\u001b[0m \u001b[0mhousebase\u001b[0m\u001b[0;34m[\u001b[0m\u001b[0;34m'city_quadkey'\u001b[0m\u001b[0;34m]\u001b[0m\u001b[0;34m.\u001b[0m\u001b[0mnunique\u001b[0m\u001b[0;34m(\u001b[0m\u001b[0;34m)\u001b[0m\u001b[0;34m\u001b[0m\u001b[0;34m\u001b[0m\u001b[0m\n\u001b[0m\u001b[1;32m      4\u001b[0m \u001b[0;34m\u001b[0m\u001b[0m\n\u001b[1;32m      5\u001b[0m \u001b[0mprint\u001b[0m\u001b[0;34m(\u001b[0m\u001b[0;34m'... TESTING ...'\u001b[0m\u001b[0;34m)\u001b[0m\u001b[0;34m\u001b[0m\u001b[0;34m\u001b[0m\u001b[0m\n",
      "\u001b[0;31mAssertionError\u001b[0m: "
     ]
    }
   ],
   "source": [
    "### GRADING\n",
    "\n",
    "assert len(housebase) == housebase['city_quadkey'].nunique()\n",
    "\n",
    "print('... TESTING ...')\n"
   ]
  },
  {
   "cell_type": "code",
   "execution_count": null,
   "metadata": {
    "ExecuteTime": {
     "end_time": "2021-08-23T17:29:18.447034Z",
     "start_time": "2021-08-23T17:29:18.432681Z"
    }
   },
   "outputs": [],
   "source": [
    "train_data = train.join(housebase.set_index('city_quadkey'), on='city_quadkey', how='left')\n",
    "test_data = test.join(housebase.set_index('city_quadkey'), on='city_quadkey', how='left')\n",
    "\n",
    "train_data.dropna(inplace=True, axis=0)\n",
    "test_data.dropna(inplace=True, axis=0)"
   ]
  },
  {
   "cell_type": "markdown",
   "metadata": {},
   "source": [
    "Преобразуем тип object в str:"
   ]
  },
  {
   "cell_type": "code",
   "execution_count": null,
   "metadata": {},
   "outputs": [],
   "source": [
    "train_data['building_type'] = train_data['building_type'].astype(str)\n",
    "test_data['building_type'] = test_data['building_type'].astype(str)"
   ]
  },
  {
   "cell_type": "markdown",
   "metadata": {},
   "source": [
    "Добавим еще один вещественный признак - возраст дома."
   ]
  },
  {
   "cell_type": "code",
   "execution_count": null,
   "metadata": {
    "ExecuteTime": {
     "end_time": "2021-08-23T17:29:19.716688Z",
     "start_time": "2021-08-23T17:29:19.680690Z"
    }
   },
   "outputs": [],
   "source": [
    "train_data['build_year'] = train_data['month'].str.split('-').map(lambda x: x[0]).astype(int) - train_data['build_year']\n",
    "test_data['build_year'] = test_data['month'].str.split('-').map(lambda x: x[0]).astype(int) - test_data['build_year']"
   ]
  },
  {
   "cell_type": "markdown",
   "metadata": {},
   "source": [
    "Разделим данные на признаки и целевую переменную."
   ]
  },
  {
   "cell_type": "code",
   "execution_count": null,
   "metadata": {
    "ExecuteTime": {
     "end_time": "2021-08-23T17:29:22.231845Z",
     "start_time": "2021-08-23T17:29:22.216269Z"
    }
   },
   "outputs": [],
   "source": [
    "x_train, y_train = train_data.drop(['avg_price_sqm'], axis=1), train_data[['avg_price_sqm']].values.ravel()\n",
    "x_test, y_test = test_data.drop(['avg_price_sqm'], axis=1), test_data[['avg_price_sqm']].values.ravel()"
   ]
  },
  {
   "cell_type": "markdown",
   "metadata": {},
   "source": [
    "В качестве бейзлайна возьмем значение нашей метрики (MAPE) для медианы обучающей выборки:"
   ]
  },
  {
   "cell_type": "code",
   "execution_count": null,
   "metadata": {
    "ExecuteTime": {
     "end_time": "2021-08-23T17:29:22.863390Z",
     "start_time": "2021-08-23T17:29:22.860687Z"
    }
   },
   "outputs": [],
   "source": [
    "def mape(y_true, y_pred):\n",
    "    y_true, y_pred = np.array(y_true), np.array(y_pred)\n",
    "    return np.mean(np.abs((y_true - y_pred) / y_true)) * 100"
   ]
  },
  {
   "cell_type": "code",
   "execution_count": null,
   "metadata": {
    "ExecuteTime": {
     "end_time": "2021-08-23T17:29:23.225893Z",
     "start_time": "2021-08-23T17:29:23.221747Z"
    }
   },
   "outputs": [],
   "source": [
    "y_dummy = np.median(y_train)\n",
    "\n",
    "f'MAPE baseline: TRAIN {mape(y_train, y_dummy):.2f}, TEST {mape(y_test, y_dummy):.2f}'"
   ]
  },
  {
   "cell_type": "markdown",
   "metadata": {},
   "source": [
    "## Перебор гиперпараметров"
   ]
  },
  {
   "cell_type": "markdown",
   "metadata": {},
   "source": [
    "Заполните пропуски в функции для поиска лучших гиперпараметров для модели."
   ]
  },
  {
   "cell_type": "code",
   "execution_count": null,
   "metadata": {
    "ExecuteTime": {
     "end_time": "2021-08-23T17:15:02.172110Z",
     "start_time": "2021-08-23T17:15:02.109702Z"
    }
   },
   "outputs": [],
   "source": [
    "from sklearn.compose import ColumnTransformer\n",
    "from sklearn.model_selection import GridSearchCV\n",
    "from sklearn.pipeline import Pipeline\n",
    "from sklearn.preprocessing import OneHotEncoder, StandardScaler, LabelEncoder"
   ]
  },
  {
   "cell_type": "code",
   "execution_count": null,
   "metadata": {
    "ExecuteTime": {
     "end_time": "2021-08-23T17:15:02.676809Z",
     "start_time": "2021-08-23T17:15:02.671812Z"
    },
    "deletable": false,
    "nbgrader": {
     "cell_type": "code",
     "checksum": "bcdc34bd3f09050d8dc33c450e135002",
     "grade": false,
     "grade_id": "cell-62bba7d855192ba5",
     "locked": false,
     "schema_version": 3,
     "solution": true,
     "task": false
    }
   },
   "outputs": [],
   "source": [
    "from sklearn.metrics import make_scorer\n",
    "\n",
    "\n",
    "scorer = make_scorer(mape, greater_is_better=False)\n",
    "\n",
    "lb = LabelEncoder().fit(x_train['building_type'].values)\n",
    "\n",
    "x_train['building_type'] = lb.transform(x_train['building_type'].values)\n",
    "x_test['building_type'] = lb.transform(x_test['building_type'].values)\n",
    "\n",
    "\n",
    "def hyperopt(estimator, params):\n",
    "    column_transformer = ColumnTransformer(  # OHE for cat, Scaler for real\n",
    "        [\n",
    "            # your code here\n",
    "            \n",
    "        ], n_jobs=4\n",
    "    )\n",
    "    \n",
    "    pipeline = Pipeline(  # column transformer and then model\n",
    "        steps=[\n",
    "            # your code here\n",
    "            \n",
    "        ]\n",
    "    )\n",
    "    \n",
    "    grid = GridSearchCV(\n",
    "        estimator=pipeline,\n",
    "        param_grid=params,\n",
    "        scoring=scorer,\n",
    "        cv=3\n",
    "    )\n",
    "    \n",
    "    grid.fit(x_train, y_train)\n",
    "    \n",
    "    # write best params to `best_params`\n",
    "    # your code here\n",
    "    \n",
    "    \n",
    "    column_transformer = ColumnTransformer(  # OHE for cat, Scaler for real\n",
    "        [\n",
    "            # your code here\n",
    "            \n",
    "        ], n_jobs=4\n",
    "    )\n",
    "    \n",
    "    pipeline = Pipeline(  # column transformer and then model with `best_params` as params\n",
    "        steps=[\n",
    "            # your code here\n",
    "            \n",
    "        ]\n",
    "    )\n",
    "    \n",
    "    pipeline.fit(x_train, y_train)\n",
    "    \n",
    "    score_train = mape(y_train, pipeline.predict(x_train))\n",
    "    score_test = mape(y_test, pipeline.predict(x_test))\n",
    "    \n",
    "    return score_train, score_test, best_params"
   ]
  },
  {
   "cell_type": "code",
   "execution_count": null,
   "metadata": {
    "ExecuteTime": {
     "end_time": "2021-08-23T17:15:04.174435Z",
     "start_time": "2021-08-23T17:15:03.259462Z"
    },
    "deletable": false,
    "editable": false,
    "nbgrader": {
     "cell_type": "code",
     "checksum": "d08bcbfd8efba53e19b24f5881863a6c",
     "grade": true,
     "grade_id": "cell-20b40e4b44acaf3a",
     "locked": true,
     "points": 20,
     "schema_version": 3,
     "solution": false,
     "task": false
    }
   },
   "outputs": [],
   "source": [
    "### GRADING\n",
    "\n",
    "print('... TESTING ...')\n"
   ]
  },
  {
   "cell_type": "markdown",
   "metadata": {},
   "source": [
    "## Сравнение моделей"
   ]
  },
  {
   "cell_type": "markdown",
   "metadata": {},
   "source": [
    "Подберите для каждой из следующих моделей лучшие гиперпараметры **с помощью функции, которую вы написали выше.**\n",
    "\n",
    "- Линейная модель с l2 регуляризацией\n",
    "- Решающее дерево\n",
    "- Случайный лес\n",
    "- Градиентный бустинг\n",
    "- Метод ближайших соседей"
   ]
  },
  {
   "cell_type": "markdown",
   "metadata": {},
   "source": [
    "### Линейная модель с l2 регуляризацией\n",
    "\n",
    "Попробуйте исследовать влияние `alpha` и `max_iter` на результат."
   ]
  },
  {
   "cell_type": "code",
   "execution_count": null,
   "metadata": {
    "ExecuteTime": {
     "end_time": "2021-08-23T17:15:07.017679Z",
     "start_time": "2021-08-23T17:15:07.015461Z"
    }
   },
   "outputs": [],
   "source": [
    "from sklearn.linear_model import Ridge\n",
    "\n",
    "\n",
    "### YOUR CODE HERE"
   ]
  },
  {
   "cell_type": "markdown",
   "metadata": {},
   "source": [
    "Запишите в переменную `best_params_ridge` ваши лучшие гиперпараметры для `Ridge`. Создайте словарь parameter:value."
   ]
  },
  {
   "cell_type": "code",
   "execution_count": null,
   "metadata": {
    "ExecuteTime": {
     "end_time": "2021-08-23T17:15:08.545432Z",
     "start_time": "2021-08-23T17:15:08.543474Z"
    },
    "deletable": false,
    "nbgrader": {
     "cell_type": "code",
     "checksum": "5e5b6fffd6506fb5f86d98c44d1f64a3",
     "grade": false,
     "grade_id": "cell-bd7364e4480e0bd0",
     "locked": false,
     "schema_version": 3,
     "solution": true,
     "task": false
    }
   },
   "outputs": [],
   "source": [
    "# your code here\n"
   ]
  },
  {
   "cell_type": "code",
   "execution_count": null,
   "metadata": {
    "ExecuteTime": {
     "end_time": "2021-08-23T17:15:09.395943Z",
     "start_time": "2021-08-23T17:15:09.170566Z"
    },
    "deletable": false,
    "editable": false,
    "nbgrader": {
     "cell_type": "code",
     "checksum": "b76de3178fa122c27d038caf8774ceb6",
     "grade": true,
     "grade_id": "cell-9a62c7706c9c1991",
     "locked": true,
     "points": 5,
     "schema_version": 3,
     "solution": false,
     "task": false
    }
   },
   "outputs": [],
   "source": [
    "### GRADING\n",
    "\n",
    "best_params_ridge\n",
    "\n",
    "print('... TESTING ...')\n"
   ]
  },
  {
   "cell_type": "markdown",
   "metadata": {},
   "source": [
    "### Решающее дерево\n",
    "\n",
    "Попробуйте исследовать влияние `max_depth`, `min_samples_split` и `max_features` на результат."
   ]
  },
  {
   "cell_type": "code",
   "execution_count": null,
   "metadata": {
    "ExecuteTime": {
     "end_time": "2021-08-23T17:15:12.321360Z",
     "start_time": "2021-08-23T17:15:12.309813Z"
    }
   },
   "outputs": [],
   "source": [
    "from sklearn.tree import DecisionTreeRegressor\n",
    "\n",
    "\n",
    "### YOUR CODE HERE"
   ]
  },
  {
   "cell_type": "markdown",
   "metadata": {},
   "source": [
    "Запишите в переменную `best_params_dt` ваши лучшие гиперпараметры для `DecisionTreeRegressor`. Создайте словарь parameter:value."
   ]
  },
  {
   "cell_type": "code",
   "execution_count": null,
   "metadata": {
    "ExecuteTime": {
     "end_time": "2021-08-23T17:15:13.091255Z",
     "start_time": "2021-08-23T17:15:13.089058Z"
    },
    "deletable": false,
    "nbgrader": {
     "cell_type": "code",
     "checksum": "dd41577df9f521d35efacd7d7d113cba",
     "grade": false,
     "grade_id": "cell-f07fe287eb41eb18",
     "locked": false,
     "schema_version": 3,
     "solution": true,
     "task": false
    }
   },
   "outputs": [],
   "source": [
    "# your code here\n"
   ]
  },
  {
   "cell_type": "code",
   "execution_count": null,
   "metadata": {
    "ExecuteTime": {
     "end_time": "2021-08-23T17:15:33.573642Z",
     "start_time": "2021-08-23T17:15:32.749864Z"
    },
    "deletable": false,
    "editable": false,
    "nbgrader": {
     "cell_type": "code",
     "checksum": "59130c3c8d5cbaae3e1a3fd87a718dfd",
     "grade": true,
     "grade_id": "cell-c06e22a4475b17e1",
     "locked": true,
     "points": 5,
     "schema_version": 3,
     "solution": false,
     "task": false
    }
   },
   "outputs": [],
   "source": [
    "### GRADING\n",
    "\n",
    "best_params_dt\n",
    "\n",
    "print('... TESTING ...')\n"
   ]
  },
  {
   "cell_type": "markdown",
   "metadata": {},
   "source": [
    "### Случайный лес\n",
    "\n",
    "Попробуйте исследовать влияние `n_estimators`, `max_depth`, `min_samples_split` и `max_features` на результат. Создайте словарь parameter:value."
   ]
  },
  {
   "cell_type": "code",
   "execution_count": null,
   "metadata": {
    "ExecuteTime": {
     "end_time": "2021-08-23T17:15:35.434215Z",
     "start_time": "2021-08-23T17:15:35.427446Z"
    }
   },
   "outputs": [],
   "source": [
    "from sklearn.ensemble import RandomForestRegressor\n",
    "\n",
    "\n",
    "### YOUR CODE HERE"
   ]
  },
  {
   "cell_type": "markdown",
   "metadata": {},
   "source": [
    "Запишите в переменную `best_params_rf` ваши лучшие гиперпараметры для `RandomForestRegressor`. Создайте словарь parameter:value, а также добавьте туда n_jobs:-1."
   ]
  },
  {
   "cell_type": "code",
   "execution_count": null,
   "metadata": {
    "ExecuteTime": {
     "end_time": "2021-08-23T17:15:36.328038Z",
     "start_time": "2021-08-23T17:15:36.325978Z"
    },
    "deletable": false,
    "nbgrader": {
     "cell_type": "code",
     "checksum": "b71699046374ee354dae8d1548fadcc5",
     "grade": false,
     "grade_id": "cell-e63f8e398cb5ae00",
     "locked": false,
     "schema_version": 3,
     "solution": true,
     "task": false
    }
   },
   "outputs": [],
   "source": [
    "# your code here\n"
   ]
  },
  {
   "cell_type": "code",
   "execution_count": null,
   "metadata": {
    "ExecuteTime": {
     "end_time": "2021-08-23T17:15:45.330436Z",
     "start_time": "2021-08-23T17:15:40.831015Z"
    },
    "deletable": false,
    "editable": false,
    "nbgrader": {
     "cell_type": "code",
     "checksum": "1e12e169041e9e1c0a6678b24d477cf8",
     "grade": true,
     "grade_id": "cell-9f2170061d89dea3",
     "locked": true,
     "points": 5,
     "schema_version": 3,
     "solution": false,
     "task": false
    }
   },
   "outputs": [],
   "source": [
    "### GRADING\n",
    "\n",
    "best_params_rf\n",
    "\n",
    "print('... TESTING ...')\n"
   ]
  },
  {
   "cell_type": "markdown",
   "metadata": {},
   "source": [
    "### Градиентный бустинг\n",
    "\n",
    "Попробуйте исследовать влияние `n_estimators`, `learning_rate`, `subsample` и `min_samples_split` на результат. Создайте словарь parameter:value."
   ]
  },
  {
   "cell_type": "code",
   "execution_count": null,
   "metadata": {
    "ExecuteTime": {
     "end_time": "2021-08-23T17:15:48.117823Z",
     "start_time": "2021-08-23T17:15:48.115599Z"
    }
   },
   "outputs": [],
   "source": [
    "from sklearn.ensemble import GradientBoostingRegressor\n",
    "\n",
    "\n",
    "### YOUR CODE HERE"
   ]
  },
  {
   "cell_type": "markdown",
   "metadata": {},
   "source": [
    "Запишите в переменную `best_params_gb` ваши лучшие гиперпараметры для `GradientBoostingRegressor`. Создайте словарь parameter:value."
   ]
  },
  {
   "cell_type": "code",
   "execution_count": null,
   "metadata": {
    "ExecuteTime": {
     "end_time": "2021-08-23T17:15:49.159276Z",
     "start_time": "2021-08-23T17:15:49.157091Z"
    },
    "deletable": false,
    "nbgrader": {
     "cell_type": "code",
     "checksum": "39d7f023fe0a948afac33ddbc8efed0f",
     "grade": false,
     "grade_id": "cell-12b7b771e5f12ee6",
     "locked": false,
     "schema_version": 3,
     "solution": true,
     "task": false
    }
   },
   "outputs": [],
   "source": [
    "# your code here\n"
   ]
  },
  {
   "cell_type": "code",
   "execution_count": null,
   "metadata": {
    "ExecuteTime": {
     "end_time": "2021-08-23T17:16:05.388507Z",
     "start_time": "2021-08-23T17:15:50.054527Z"
    },
    "deletable": false,
    "editable": false,
    "nbgrader": {
     "cell_type": "code",
     "checksum": "fddf337cd639dfb69a9897cf04ef9b75",
     "grade": true,
     "grade_id": "cell-06f3faae791475d6",
     "locked": true,
     "points": 5,
     "schema_version": 3,
     "solution": false,
     "task": false
    }
   },
   "outputs": [],
   "source": [
    "### GRADING\n",
    "\n",
    "best_params_gb\n",
    "\n",
    "print('... TESTING ...')\n"
   ]
  }
 ],
 "metadata": {
  "kernelspec": {
   "display_name": "Python 3",
   "language": "python",
   "name": "python3"
  },
  "language_info": {
   "codemirror_mode": {
    "name": "ipython",
    "version": 3
   },
   "file_extension": ".py",
   "mimetype": "text/x-python",
   "name": "python",
   "nbconvert_exporter": "python",
   "pygments_lexer": "ipython3",
   "version": "3.8.5"
  }
 },
 "nbformat": 4,
 "nbformat_minor": 5
}
